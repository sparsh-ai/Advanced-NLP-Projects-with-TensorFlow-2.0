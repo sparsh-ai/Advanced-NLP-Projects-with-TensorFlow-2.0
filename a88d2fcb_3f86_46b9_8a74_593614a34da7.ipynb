{
  "nbformat": 4,
  "nbformat_minor": 0,
  "metadata": {
    "colab": {
      "name": "a88d2fcb-3f86-46b9-8a74-593614a34da7",
      "provenance": [],
      "authorship_tag": "ABX9TyMos8rzAOvqZ6n55Yfl4YDS",
      "include_colab_link": true
    },
    "kernelspec": {
      "name": "python3",
      "display_name": "Python 3"
    }
  },
  "cells": [
    {
      "cell_type": "markdown",
      "metadata": {
        "id": "view-in-github",
        "colab_type": "text"
      },
      "source": [
        "<a href=\"https://colab.research.google.com/github/sparsh-ai/Advanced-NLP-Projects-with-TensorFlow-2.0/blob/master/a88d2fcb_3f86_46b9_8a74_593614a34da7.ipynb\" target=\"_parent\"><img src=\"https://colab.research.google.com/assets/colab-badge.svg\" alt=\"Open In Colab\"/></a>"
      ]
    },
    {
      "cell_type": "code",
      "metadata": {
        "id": "B6F_-1-mRB4m",
        "colab_type": "code",
        "outputId": "865b15bb-fe5c-43ac-86f7-6baf48b5f34c",
        "colab": {}
      },
      "source": [
        "import numpy as np\n",
        "import pandas as pd\n",
        "import matplotlib.pyplot as plt\n",
        "%matplotlib inline\n",
        "import seaborn as sns\n",
        "#plt.style.use('fivethirtyeight')\n",
        "plt.style.use('seaborn-notebook')\n",
        "import warnings\n",
        "warnings.filterwarnings('ignore')\n",
        "\n",
        "from numpy import nan\n",
        "import pandas.core.algorithms as algos\n",
        "import scipy.stats.stats as stats\n",
        "from pandas.io.json import json_normalize\n",
        "import re\n",
        "import traceback\n",
        "import string\n",
        "import sys\n",
        "%precision 2\n",
        "import gc\n",
        "import os\n",
        "\n",
        "# Print all rows and columns\n",
        "pd.set_option('display.max_columns', None)\n",
        "pd.set_option('display.max_rows', None)\n",
        "\n",
        "import datetime\n",
        "import category_encoders as ce\n",
        "from encoder import WOEEncoder\n",
        "\n",
        "#other packages\n",
        "import missingno as msno\n",
        "from sklearn import tree\n",
        "import graphviz\n",
        "import eli5\n",
        "from eli5.sklearn import PermutationImportance\n",
        "\n",
        "# Machine learning libraries\n",
        "from sklearn import metrics, preprocessing\n",
        "from sklearn.preprocessing import LabelEncoder\n",
        "from sklearn.model_selection import GridSearchCV, cross_val_score, StratifiedKFold, learning_curve, cross_validate\n",
        "\n",
        "from sklearn.model_selection import RandomizedSearchCV, train_test_split\n",
        "from sklearn.ensemble import RandomForestClassifier, AdaBoostClassifier, GradientBoostingClassifier \n",
        "from sklearn.ensemble import ExtraTreesClassifier, VotingClassifier, BaggingClassifier\n",
        "\n",
        "from sklearn.gaussian_process import GaussianProcessClassifier\n",
        "from sklearn.discriminant_analysis import LinearDiscriminantAnalysis, QuadraticDiscriminantAnalysis\n",
        "from sklearn.linear_model import LogisticRegression, LogisticRegressionCV, PassiveAggressiveClassifier\n",
        "from sklearn.linear_model import SGDClassifier, RidgeClassifierCV, Perceptron\n",
        "    \n",
        "from sklearn.naive_bayes import BernoulliNB, GaussianNB\n",
        "from sklearn.neighbors import KNeighborsClassifier\n",
        "from sklearn.tree import DecisionTreeClassifier, ExtraTreeClassifier\n",
        "from sklearn.neural_network import MLPClassifier\n",
        "from sklearn.svm import SVC, NuSVC, LinearSVC\n",
        "from lightgbm import LGBMClassifier\n",
        "from xgboost import XGBClassifier\n",
        "from sklearn.feature_selection import SelectFromModel, RFE, RFECV, SelectKBest, chi2\n",
        "import catboost\n",
        "from pygam import LogisticGAM\n",
        "\n",
        "# Clustering\n",
        "from sklearn.cluster import AgglomerativeClustering, DBSCAN, KMeans\n",
        "from sklearn.cluster import MeanShift, estimate_bandwidth, SpectralClustering\n",
        "from hdbscan import HDBSCAN\n",
        "\n",
        "#other packages\n",
        "from sklearn import tree\n",
        "import graphviz\n",
        "\n",
        "# Versions\n",
        "print('seaborn: {}'.format(sns.__version__))\n",
        "print('pandas: {}'.format(pd.__version__))\n",
        "print('numpy: {}'.format(np.__version__))\n",
        "print('Python: {}'.format(sys.version))"
      ],
      "execution_count": 0,
      "outputs": [
        {
          "output_type": "stream",
          "text": [
            "seaborn: 0.9.0\n",
            "pandas: 0.23.4\n",
            "numpy: 1.15.4\n",
            "Python: 3.6.8 |Anaconda custom (64-bit)| (default, Feb 21 2019, 18:30:04) [MSC v.1916 64 bit (AMD64)]\n"
          ],
          "name": "stdout"
        }
      ]
    },
    {
      "cell_type": "markdown",
      "metadata": {
        "id": "SGDcTdE9RB4s",
        "colab_type": "text"
      },
      "source": [
        "### Pre-preprocessing\n",
        "- Loading .txt dataset with | ('pipe') seperator\n",
        "- filtering out only 'Approved' and 'Denied' records"
      ]
    },
    {
      "cell_type": "code",
      "metadata": {
        "id": "NT0Rx9qmRB4v",
        "colab_type": "code",
        "outputId": "7f287c71-f338-4088-8096-ca7aae2734f0",
        "colab": {}
      },
      "source": [
        "df = pd.read_csv('dataset2.txt', sep=\"|\")\n",
        "print('Initial data shape:',df.shape)"
      ],
      "execution_count": 0,
      "outputs": [
        {
          "output_type": "stream",
          "text": [
            "Initial data shape: (393550, 26)\n"
          ],
          "name": "stdout"
        }
      ]
    },
    {
      "cell_type": "code",
      "metadata": {
        "id": "pf4_A1glRB4y",
        "colab_type": "code",
        "outputId": "df5bb66e-e783-4932-8e1f-de4ca227d79d",
        "colab": {}
      },
      "source": [
        "df.describe(include='all')"
      ],
      "execution_count": 0,
      "outputs": [
        {
          "output_type": "execute_result",
          "data": {
            "text/html": [
              "<div>\n",
              "<style scoped>\n",
              "    .dataframe tbody tr th:only-of-type {\n",
              "        vertical-align: middle;\n",
              "    }\n",
              "\n",
              "    .dataframe tbody tr th {\n",
              "        vertical-align: top;\n",
              "    }\n",
              "\n",
              "    .dataframe thead th {\n",
              "        text-align: right;\n",
              "    }\n",
              "</style>\n",
              "<table border=\"1\" class=\"dataframe\">\n",
              "  <thead>\n",
              "    <tr style=\"text-align: right;\">\n",
              "      <th></th>\n",
              "      <th>preauth_rqst_id</th>\n",
              "      <th>PREAUTH_RQST_TYPE_CD</th>\n",
              "      <th>CASE_TYPE_CD</th>\n",
              "      <th>PLACE_OF_SRVC_NM</th>\n",
              "      <th>RCPT_MTHD_TXT</th>\n",
              "      <th>DSCHG_DT</th>\n",
              "      <th>ADDNL_DSCHRG_DISP_INFO_TXT</th>\n",
              "      <th>DT_OF_BRTH</th>\n",
              "      <th>GNDR</th>\n",
              "      <th>ST</th>\n",
              "      <th>MBR_PLN_ST_CD</th>\n",
              "      <th>MBR_LOB_NM</th>\n",
              "      <th>PROD_FMLY_CD</th>\n",
              "      <th>FUNDG_TYPE_CD</th>\n",
              "      <th>PREAUTH_CASE_PROC_CD_ID</th>\n",
              "      <th>PROC_CD</th>\n",
              "      <th>PROC_MDFR_CD</th>\n",
              "      <th>PRMRY_IND</th>\n",
              "      <th>SRCV_QTY</th>\n",
              "      <th>TOS_NM</th>\n",
              "      <th>RVW_TYPE_TXT</th>\n",
              "      <th>LVL_OF_SRVC_NM</th>\n",
              "      <th>ADDNL_CLNCL_INFO_RCVD_TXT</th>\n",
              "      <th>PROC_CD_DCSN</th>\n",
              "      <th>STTS_RSN_TXT</th>\n",
              "      <th>DIAG_CD</th>\n",
              "    </tr>\n",
              "  </thead>\n",
              "  <tbody>\n",
              "    <tr>\n",
              "      <th>count</th>\n",
              "      <td>3.935500e+05</td>\n",
              "      <td>393550</td>\n",
              "      <td>393550</td>\n",
              "      <td>393550.000000</td>\n",
              "      <td>393550</td>\n",
              "      <td>46478</td>\n",
              "      <td>3556</td>\n",
              "      <td>393550</td>\n",
              "      <td>393550</td>\n",
              "      <td>393531</td>\n",
              "      <td>393550</td>\n",
              "      <td>393550</td>\n",
              "      <td>353195</td>\n",
              "      <td>368092</td>\n",
              "      <td>3.935500e+05</td>\n",
              "      <td>379940</td>\n",
              "      <td>115917</td>\n",
              "      <td>379940.000000</td>\n",
              "      <td>393522.000000</td>\n",
              "      <td>393546</td>\n",
              "      <td>393546</td>\n",
              "      <td>393550.000000</td>\n",
              "      <td>36930</td>\n",
              "      <td>393550</td>\n",
              "      <td>393548.0</td>\n",
              "      <td>393550</td>\n",
              "    </tr>\n",
              "    <tr>\n",
              "      <th>unique</th>\n",
              "      <td>NaN</td>\n",
              "      <td>6</td>\n",
              "      <td>18</td>\n",
              "      <td>NaN</td>\n",
              "      <td>17</td>\n",
              "      <td>565</td>\n",
              "      <td>14</td>\n",
              "      <td>28479</td>\n",
              "      <td>2</td>\n",
              "      <td>59</td>\n",
              "      <td>52</td>\n",
              "      <td>5</td>\n",
              "      <td>10</td>\n",
              "      <td>3</td>\n",
              "      <td>NaN</td>\n",
              "      <td>7017</td>\n",
              "      <td>39</td>\n",
              "      <td>NaN</td>\n",
              "      <td>NaN</td>\n",
              "      <td>86</td>\n",
              "      <td>3</td>\n",
              "      <td>NaN</td>\n",
              "      <td>2</td>\n",
              "      <td>9</td>\n",
              "      <td>95.0</td>\n",
              "      <td>10290</td>\n",
              "    </tr>\n",
              "    <tr>\n",
              "      <th>top</th>\n",
              "      <td>NaN</td>\n",
              "      <td>Outpatient</td>\n",
              "      <td>SU</td>\n",
              "      <td>NaN</td>\n",
              "      <td>Phone</td>\n",
              "      <td>'2018-11-09 00:00:00'</td>\n",
              "      <td>HOMEHLTHSERV</td>\n",
              "      <td>'1966-04-23 00:00:00'</td>\n",
              "      <td>F</td>\n",
              "      <td>CA</td>\n",
              "      <td>CA</td>\n",
              "      <td>Local Commercial</td>\n",
              "      <td>PPO</td>\n",
              "      <td>ASO</td>\n",
              "      <td>NaN</td>\n",
              "      <td>G0299</td>\n",
              "      <td>RT</td>\n",
              "      <td>NaN</td>\n",
              "      <td>NaN</td>\n",
              "      <td>2</td>\n",
              "      <td>Prospective</td>\n",
              "      <td>NaN</td>\n",
              "      <td>Yes</td>\n",
              "      <td>APPRVD</td>\n",
              "      <td>1.0</td>\n",
              "      <td>F84.0</td>\n",
              "    </tr>\n",
              "    <tr>\n",
              "      <th>freq</th>\n",
              "      <td>NaN</td>\n",
              "      <td>321781</td>\n",
              "      <td>175580</td>\n",
              "      <td>NaN</td>\n",
              "      <td>208435</td>\n",
              "      <td>996</td>\n",
              "      <td>2369</td>\n",
              "      <td>106</td>\n",
              "      <td>221237</td>\n",
              "      <td>100266</td>\n",
              "      <td>118317</td>\n",
              "      <td>273109</td>\n",
              "      <td>247441</td>\n",
              "      <td>232350</td>\n",
              "      <td>NaN</td>\n",
              "      <td>8247</td>\n",
              "      <td>35110</td>\n",
              "      <td>NaN</td>\n",
              "      <td>NaN</td>\n",
              "      <td>179530</td>\n",
              "      <td>340793</td>\n",
              "      <td>NaN</td>\n",
              "      <td>36446</td>\n",
              "      <td>276447</td>\n",
              "      <td>203097.0</td>\n",
              "      <td>8840</td>\n",
              "    </tr>\n",
              "    <tr>\n",
              "      <th>mean</th>\n",
              "      <td>3.077292e+06</td>\n",
              "      <td>NaN</td>\n",
              "      <td>NaN</td>\n",
              "      <td>20.789020</td>\n",
              "      <td>NaN</td>\n",
              "      <td>NaN</td>\n",
              "      <td>NaN</td>\n",
              "      <td>NaN</td>\n",
              "      <td>NaN</td>\n",
              "      <td>NaN</td>\n",
              "      <td>NaN</td>\n",
              "      <td>NaN</td>\n",
              "      <td>NaN</td>\n",
              "      <td>NaN</td>\n",
              "      <td>2.754206e+06</td>\n",
              "      <td>NaN</td>\n",
              "      <td>NaN</td>\n",
              "      <td>0.582337</td>\n",
              "      <td>44.946333</td>\n",
              "      <td>NaN</td>\n",
              "      <td>NaN</td>\n",
              "      <td>2.874443</td>\n",
              "      <td>NaN</td>\n",
              "      <td>NaN</td>\n",
              "      <td>NaN</td>\n",
              "      <td>NaN</td>\n",
              "    </tr>\n",
              "    <tr>\n",
              "      <th>std</th>\n",
              "      <td>1.828805e+05</td>\n",
              "      <td>NaN</td>\n",
              "      <td>NaN</td>\n",
              "      <td>13.983353</td>\n",
              "      <td>NaN</td>\n",
              "      <td>NaN</td>\n",
              "      <td>NaN</td>\n",
              "      <td>NaN</td>\n",
              "      <td>NaN</td>\n",
              "      <td>NaN</td>\n",
              "      <td>NaN</td>\n",
              "      <td>NaN</td>\n",
              "      <td>NaN</td>\n",
              "      <td>NaN</td>\n",
              "      <td>1.853441e+05</td>\n",
              "      <td>NaN</td>\n",
              "      <td>NaN</td>\n",
              "      <td>0.493175</td>\n",
              "      <td>614.197215</td>\n",
              "      <td>NaN</td>\n",
              "      <td>NaN</td>\n",
              "      <td>0.353967</td>\n",
              "      <td>NaN</td>\n",
              "      <td>NaN</td>\n",
              "      <td>NaN</td>\n",
              "      <td>NaN</td>\n",
              "    </tr>\n",
              "    <tr>\n",
              "      <th>min</th>\n",
              "      <td>8.157590e+05</td>\n",
              "      <td>NaN</td>\n",
              "      <td>NaN</td>\n",
              "      <td>1.000000</td>\n",
              "      <td>NaN</td>\n",
              "      <td>NaN</td>\n",
              "      <td>NaN</td>\n",
              "      <td>NaN</td>\n",
              "      <td>NaN</td>\n",
              "      <td>NaN</td>\n",
              "      <td>NaN</td>\n",
              "      <td>NaN</td>\n",
              "      <td>NaN</td>\n",
              "      <td>NaN</td>\n",
              "      <td>1.106139e+06</td>\n",
              "      <td>NaN</td>\n",
              "      <td>NaN</td>\n",
              "      <td>0.000000</td>\n",
              "      <td>-29.000000</td>\n",
              "      <td>NaN</td>\n",
              "      <td>NaN</td>\n",
              "      <td>1.000000</td>\n",
              "      <td>NaN</td>\n",
              "      <td>NaN</td>\n",
              "      <td>NaN</td>\n",
              "      <td>NaN</td>\n",
              "    </tr>\n",
              "    <tr>\n",
              "      <th>25%</th>\n",
              "      <td>2.994111e+06</td>\n",
              "      <td>NaN</td>\n",
              "      <td>NaN</td>\n",
              "      <td>12.000000</td>\n",
              "      <td>NaN</td>\n",
              "      <td>NaN</td>\n",
              "      <td>NaN</td>\n",
              "      <td>NaN</td>\n",
              "      <td>NaN</td>\n",
              "      <td>NaN</td>\n",
              "      <td>NaN</td>\n",
              "      <td>NaN</td>\n",
              "      <td>NaN</td>\n",
              "      <td>NaN</td>\n",
              "      <td>2.653745e+06</td>\n",
              "      <td>NaN</td>\n",
              "      <td>NaN</td>\n",
              "      <td>0.000000</td>\n",
              "      <td>1.000000</td>\n",
              "      <td>NaN</td>\n",
              "      <td>NaN</td>\n",
              "      <td>3.000000</td>\n",
              "      <td>NaN</td>\n",
              "      <td>NaN</td>\n",
              "      <td>NaN</td>\n",
              "      <td>NaN</td>\n",
              "    </tr>\n",
              "    <tr>\n",
              "      <th>50%</th>\n",
              "      <td>3.092531e+06</td>\n",
              "      <td>NaN</td>\n",
              "      <td>NaN</td>\n",
              "      <td>21.000000</td>\n",
              "      <td>NaN</td>\n",
              "      <td>NaN</td>\n",
              "      <td>NaN</td>\n",
              "      <td>NaN</td>\n",
              "      <td>NaN</td>\n",
              "      <td>NaN</td>\n",
              "      <td>NaN</td>\n",
              "      <td>NaN</td>\n",
              "      <td>NaN</td>\n",
              "      <td>NaN</td>\n",
              "      <td>2.764434e+06</td>\n",
              "      <td>NaN</td>\n",
              "      <td>NaN</td>\n",
              "      <td>1.000000</td>\n",
              "      <td>1.000000</td>\n",
              "      <td>NaN</td>\n",
              "      <td>NaN</td>\n",
              "      <td>3.000000</td>\n",
              "      <td>NaN</td>\n",
              "      <td>NaN</td>\n",
              "      <td>NaN</td>\n",
              "      <td>NaN</td>\n",
              "    </tr>\n",
              "    <tr>\n",
              "      <th>75%</th>\n",
              "      <td>3.200418e+06</td>\n",
              "      <td>NaN</td>\n",
              "      <td>NaN</td>\n",
              "      <td>22.000000</td>\n",
              "      <td>NaN</td>\n",
              "      <td>NaN</td>\n",
              "      <td>NaN</td>\n",
              "      <td>NaN</td>\n",
              "      <td>NaN</td>\n",
              "      <td>NaN</td>\n",
              "      <td>NaN</td>\n",
              "      <td>NaN</td>\n",
              "      <td>NaN</td>\n",
              "      <td>NaN</td>\n",
              "      <td>2.884838e+06</td>\n",
              "      <td>NaN</td>\n",
              "      <td>NaN</td>\n",
              "      <td>1.000000</td>\n",
              "      <td>3.000000</td>\n",
              "      <td>NaN</td>\n",
              "      <td>NaN</td>\n",
              "      <td>3.000000</td>\n",
              "      <td>NaN</td>\n",
              "      <td>NaN</td>\n",
              "      <td>NaN</td>\n",
              "      <td>NaN</td>\n",
              "    </tr>\n",
              "    <tr>\n",
              "      <th>max</th>\n",
              "      <td>3.357219e+06</td>\n",
              "      <td>NaN</td>\n",
              "      <td>NaN</td>\n",
              "      <td>83.000000</td>\n",
              "      <td>NaN</td>\n",
              "      <td>NaN</td>\n",
              "      <td>NaN</td>\n",
              "      <td>NaN</td>\n",
              "      <td>NaN</td>\n",
              "      <td>NaN</td>\n",
              "      <td>NaN</td>\n",
              "      <td>NaN</td>\n",
              "      <td>NaN</td>\n",
              "      <td>NaN</td>\n",
              "      <td>3.254835e+06</td>\n",
              "      <td>NaN</td>\n",
              "      <td>NaN</td>\n",
              "      <td>1.000000</td>\n",
              "      <td>99999.000000</td>\n",
              "      <td>NaN</td>\n",
              "      <td>NaN</td>\n",
              "      <td>3.000000</td>\n",
              "      <td>NaN</td>\n",
              "      <td>NaN</td>\n",
              "      <td>NaN</td>\n",
              "      <td>NaN</td>\n",
              "    </tr>\n",
              "  </tbody>\n",
              "</table>\n",
              "</div>"
            ],
            "text/plain": [
              "        preauth_rqst_id PREAUTH_RQST_TYPE_CD CASE_TYPE_CD  PLACE_OF_SRVC_NM  \\\n",
              "count      3.935500e+05               393550       393550     393550.000000   \n",
              "unique              NaN                    6           18               NaN   \n",
              "top                 NaN           Outpatient           SU               NaN   \n",
              "freq                NaN               321781       175580               NaN   \n",
              "mean       3.077292e+06                  NaN          NaN         20.789020   \n",
              "std        1.828805e+05                  NaN          NaN         13.983353   \n",
              "min        8.157590e+05                  NaN          NaN          1.000000   \n",
              "25%        2.994111e+06                  NaN          NaN         12.000000   \n",
              "50%        3.092531e+06                  NaN          NaN         21.000000   \n",
              "75%        3.200418e+06                  NaN          NaN         22.000000   \n",
              "max        3.357219e+06                  NaN          NaN         83.000000   \n",
              "\n",
              "       RCPT_MTHD_TXT               DSCHG_DT ADDNL_DSCHRG_DISP_INFO_TXT  \\\n",
              "count         393550                  46478                       3556   \n",
              "unique            17                    565                         14   \n",
              "top            Phone  '2018-11-09 00:00:00'               HOMEHLTHSERV   \n",
              "freq          208435                    996                       2369   \n",
              "mean             NaN                    NaN                        NaN   \n",
              "std              NaN                    NaN                        NaN   \n",
              "min              NaN                    NaN                        NaN   \n",
              "25%              NaN                    NaN                        NaN   \n",
              "50%              NaN                    NaN                        NaN   \n",
              "75%              NaN                    NaN                        NaN   \n",
              "max              NaN                    NaN                        NaN   \n",
              "\n",
              "                   DT_OF_BRTH    GNDR      ST MBR_PLN_ST_CD        MBR_LOB_NM  \\\n",
              "count                  393550  393550  393531        393550            393550   \n",
              "unique                  28479       2      59            52                 5   \n",
              "top     '1966-04-23 00:00:00'       F      CA            CA  Local Commercial   \n",
              "freq                      106  221237  100266        118317            273109   \n",
              "mean                      NaN     NaN     NaN           NaN               NaN   \n",
              "std                       NaN     NaN     NaN           NaN               NaN   \n",
              "min                       NaN     NaN     NaN           NaN               NaN   \n",
              "25%                       NaN     NaN     NaN           NaN               NaN   \n",
              "50%                       NaN     NaN     NaN           NaN               NaN   \n",
              "75%                       NaN     NaN     NaN           NaN               NaN   \n",
              "max                       NaN     NaN     NaN           NaN               NaN   \n",
              "\n",
              "       PROD_FMLY_CD FUNDG_TYPE_CD  PREAUTH_CASE_PROC_CD_ID      PROC_CD  \\\n",
              "count        353195        368092             3.935500e+05       379940   \n",
              "unique           10             3                      NaN         7017   \n",
              "top           PPO             ASO                      NaN  G0299         \n",
              "freq         247441        232350                      NaN         8247   \n",
              "mean            NaN           NaN             2.754206e+06          NaN   \n",
              "std             NaN           NaN             1.853441e+05          NaN   \n",
              "min             NaN           NaN             1.106139e+06          NaN   \n",
              "25%             NaN           NaN             2.653745e+06          NaN   \n",
              "50%             NaN           NaN             2.764434e+06          NaN   \n",
              "75%             NaN           NaN             2.884838e+06          NaN   \n",
              "max             NaN           NaN             3.254835e+06          NaN   \n",
              "\n",
              "       PROC_MDFR_CD      PRMRY_IND       SRCV_QTY  TOS_NM RVW_TYPE_TXT  \\\n",
              "count        115917  379940.000000  393522.000000  393546       393546   \n",
              "unique           39            NaN            NaN      86            3   \n",
              "top              RT            NaN            NaN       2  Prospective   \n",
              "freq          35110            NaN            NaN  179530       340793   \n",
              "mean            NaN       0.582337      44.946333     NaN          NaN   \n",
              "std             NaN       0.493175     614.197215     NaN          NaN   \n",
              "min             NaN       0.000000     -29.000000     NaN          NaN   \n",
              "25%             NaN       0.000000       1.000000     NaN          NaN   \n",
              "50%             NaN       1.000000       1.000000     NaN          NaN   \n",
              "75%             NaN       1.000000       3.000000     NaN          NaN   \n",
              "max             NaN       1.000000   99999.000000     NaN          NaN   \n",
              "\n",
              "        LVL_OF_SRVC_NM ADDNL_CLNCL_INFO_RCVD_TXT PROC_CD_DCSN  STTS_RSN_TXT  \\\n",
              "count    393550.000000                     36930       393550      393548.0   \n",
              "unique             NaN                         2            9          95.0   \n",
              "top                NaN                       Yes       APPRVD           1.0   \n",
              "freq               NaN                     36446       276447      203097.0   \n",
              "mean          2.874443                       NaN          NaN           NaN   \n",
              "std           0.353967                       NaN          NaN           NaN   \n",
              "min           1.000000                       NaN          NaN           NaN   \n",
              "25%           3.000000                       NaN          NaN           NaN   \n",
              "50%           3.000000                       NaN          NaN           NaN   \n",
              "75%           3.000000                       NaN          NaN           NaN   \n",
              "max           3.000000                       NaN          NaN           NaN   \n",
              "\n",
              "            DIAG_CD  \n",
              "count        393550  \n",
              "unique        10290  \n",
              "top     F84.0        \n",
              "freq           8840  \n",
              "mean            NaN  \n",
              "std             NaN  \n",
              "min             NaN  \n",
              "25%             NaN  \n",
              "50%             NaN  \n",
              "75%             NaN  \n",
              "max             NaN  "
            ]
          },
          "metadata": {
            "tags": []
          },
          "execution_count": 3
        }
      ]
    },
    {
      "cell_type": "code",
      "metadata": {
        "id": "NpRAUtoMRB41",
        "colab_type": "code",
        "outputId": "5bc38f24-0f7a-4e0a-c5e0-4eae4c4e2e70",
        "colab": {}
      },
      "source": [
        "#target variable distribution - filtering only approved and reject cases\n",
        "fig, (ax1,ax2) = plt.subplots(nrows=1, ncols=2, figsize=(12,4))\n",
        "\n",
        "df['PROC_CD_DCSN'].value_counts().plot(kind='bar', ax=ax1)\n",
        "df = df[df['PROC_CD_DCSN'].isin(['APPRVD','DENIED'])]\n",
        "df['PROC_CD_DCSN'].value_counts().plot(kind='bar', ax=ax2)\n",
        "df['PROC_CD_DCSN'] = df['PROC_CD_DCSN'].map({'APPRVD':1, 'DENIED':0})\n",
        "print('\\nShape after filtering only Approved/Denied cases:',df.shape)"
      ],
      "execution_count": 0,
      "outputs": [
        {
          "output_type": "stream",
          "text": [
            "\n",
            "Shape after filtering only Approved/Denied cases: (325699, 26)\n"
          ],
          "name": "stdout"
        },
        {
          "output_type": "display_data",
          "data": {
            "image/png": "[encoded data removed]",
            "text/plain": [
              "<Figure size 864x288 with 2 Axes>"
            ]
          },
          "metadata": {
            "tags": [],
            "needs_background": "light"
          }
        }
      ]
    },
    {
      "cell_type": "markdown",
      "metadata": {
        "id": "jsCfn7p-RB45",
        "colab_type": "text"
      },
      "source": [
        "## Class balancing\n",
        "![title](img/resampling.png)\n",
        "- Despite the advantage of balancing classes, these techniques also have their weaknesses (there is no free lunch). The simplest implementation of over-sampling is to duplicate random records from the minority class, which can cause overfitting. In under-sampling, the simplest technique involves removing random records from the majority class, which can cause loss of information.\n",
        "- Apart from under and over sampling, there is a very popular approach called SMOTE (Synthetic Minority Over-Sampling Technique), which is a combination of oversampling and undersampling, but the oversampling approach is not by replicating minority class but constructing new minority class data instance via an algorithm.\n",
        "![title](img/smote.png)\n",
        "\n",
        "#### https://www.kaggle.com/rafjaa/resampling-strategies-for-imbalanced-datasets"
      ]
    },
    {
      "cell_type": "code",
      "metadata": {
        "id": "oF5n0G5_RB45",
        "colab_type": "code",
        "colab": {}
      },
      "source": [
        "# import imblearn\n",
        "# from imblearn.over_sampling import SMOTE\n",
        "\n",
        "# def smote_me(data_X, data_y):\n",
        "#     #We'll use ratio='minority' to resample the minority class\n",
        "#     smote = SMOTE(ratio='minority')\n",
        "#     X_sm, y_sm = smote.fit_sample(data_X, data_y)\n",
        "#     return pd.DataFrame(X_sm), pd.Series(y_sm)"
      ],
      "execution_count": 0,
      "outputs": []
    },
    {
      "cell_type": "code",
      "metadata": {
        "id": "aTLdDLv2RB49",
        "colab_type": "code",
        "colab": {}
      },
      "source": [
        "# Randomly sample 10% of your dataframe - temporary for faster processing (experimental purpose only)\n",
        "df = df.sample(frac=0.01)"
      ],
      "execution_count": 0,
      "outputs": []
    },
    {
      "cell_type": "code",
      "metadata": {
        "id": "EsRZh_DERB5B",
        "colab_type": "code",
        "outputId": "f45c9208-3003-4c82-8134-1c934f000c69",
        "colab": {}
      },
      "source": [
        "df['PROC_CD_DCSN'].value_counts().plot(kind='bar')"
      ],
      "execution_count": 0,
      "outputs": [
        {
          "output_type": "execute_result",
          "data": {
            "text/plain": [
              "<matplotlib.axes._subplots.AxesSubplot at 0xf551cc0>"
            ]
          },
          "metadata": {
            "tags": []
          },
          "execution_count": 7
        },
        {
          "output_type": "display_data",
          "data": {
            "image/png": "[encoded data removed]",
            "text/plain": [
              "<Figure size 432x288 with 1 Axes>"
            ]
          },
          "metadata": {
            "tags": [],
            "needs_background": "light"
          }
        }
      ]
    },
    {
      "cell_type": "markdown",
      "metadata": {
        "id": "2yvQnE3rRB5E",
        "colab_type": "text"
      },
      "source": [
        "## EDA\n",
        "1. Correcting and Completing features\n",
        " - Detecting and correcting outliers (Tukey method of IQR range)\n",
        " - Detecting and correcting missing values\n",
        " - Strategy (Metaframe)\n",
        "     - Metaframe building, export to excel\n",
        "     - missing-value strategy\n",
        "     - outlier strategy\n",
        "     - encoding strategy\n",
        "     - variable description\n",
        "     - DCG and client comments\n",
        "2. Correlation analysis\n",
        " - Pearson for continuous-continuous\n",
        " - Kramer_v, theil-u for categorical-categorical\n",
        " - Coorelation ratio for categorical-continuous\n",
        "3. Feature Selection/Elimination\n",
        " - SelectKBest (metric = chi2)\n",
        " - SelectFromModel (Random Forest, XGBoost _feature_importances_)\n",
        " - Information Value\n",
        " - Recursive Feature elimination\n",
        "4. Multicollinearity Analysis\n",
        "5. Univariate Analysis\n",
        " - Seaborn countplot of categorical variable with 'target_variable' hue\n",
        " - Seaborn kde-distplot of continuous variable with 'target_variable' hue\n",
        "6. Bivariate Analysis"
      ]
    },
    {
      "cell_type": "code",
      "metadata": {
        "id": "hX3NdJPeRB5F",
        "colab_type": "code",
        "outputId": "31aa9d0b-04a2-4dfb-e077-69e996d7953d",
        "colab": {}
      },
      "source": [
        "### Creating metaframe\n",
        "def meta(data):\n",
        "    datadict = []\n",
        "    for col in data.columns:\n",
        "        col_dict = {\n",
        "            'varname': col,\n",
        "            'dtype': data[col].dtype,\n",
        "            'nunique': data[col].nunique(),\n",
        "            'value_counts': data[col].value_counts(dropna = False),\n",
        "            'response_rate': 100 * data[col].notnull().sum() / data.shape[0]\n",
        "        }\n",
        "        datadict.append(col_dict)\n",
        "\n",
        "    meta = pd.DataFrame(datadict, columns=['varname', 'dtype', 'nunique', 'response_rate'])\n",
        "    return meta\n",
        "\n",
        "meta(df).sort_values(by='response_rate', ascending=False)"
      ],
      "execution_count": 0,
      "outputs": [
        {
          "output_type": "execute_result",
          "data": {
            "text/html": [
              "<div>\n",
              "<style scoped>\n",
              "    .dataframe tbody tr th:only-of-type {\n",
              "        vertical-align: middle;\n",
              "    }\n",
              "\n",
              "    .dataframe tbody tr th {\n",
              "        vertical-align: top;\n",
              "    }\n",
              "\n",
              "    .dataframe thead th {\n",
              "        text-align: right;\n",
              "    }\n",
              "</style>\n",
              "<table border=\"1\" class=\"dataframe\">\n",
              "  <thead>\n",
              "    <tr style=\"text-align: right;\">\n",
              "      <th></th>\n",
              "      <th>varname</th>\n",
              "      <th>dtype</th>\n",
              "      <th>nunique</th>\n",
              "      <th>response_rate</th>\n",
              "    </tr>\n",
              "  </thead>\n",
              "  <tbody>\n",
              "    <tr>\n",
              "      <th>0</th>\n",
              "      <td>preauth_rqst_id</td>\n",
              "      <td>int64</td>\n",
              "      <td>3216</td>\n",
              "      <td>100.000000</td>\n",
              "    </tr>\n",
              "    <tr>\n",
              "      <th>10</th>\n",
              "      <td>MBR_PLN_ST_CD</td>\n",
              "      <td>object</td>\n",
              "      <td>35</td>\n",
              "      <td>100.000000</td>\n",
              "    </tr>\n",
              "    <tr>\n",
              "      <th>24</th>\n",
              "      <td>STTS_RSN_TXT</td>\n",
              "      <td>object</td>\n",
              "      <td>52</td>\n",
              "      <td>100.000000</td>\n",
              "    </tr>\n",
              "    <tr>\n",
              "      <th>23</th>\n",
              "      <td>PROC_CD_DCSN</td>\n",
              "      <td>int64</td>\n",
              "      <td>2</td>\n",
              "      <td>100.000000</td>\n",
              "    </tr>\n",
              "    <tr>\n",
              "      <th>21</th>\n",
              "      <td>LVL_OF_SRVC_NM</td>\n",
              "      <td>int64</td>\n",
              "      <td>3</td>\n",
              "      <td>100.000000</td>\n",
              "    </tr>\n",
              "    <tr>\n",
              "      <th>20</th>\n",
              "      <td>RVW_TYPE_TXT</td>\n",
              "      <td>object</td>\n",
              "      <td>3</td>\n",
              "      <td>100.000000</td>\n",
              "    </tr>\n",
              "    <tr>\n",
              "      <th>19</th>\n",
              "      <td>TOS_NM</td>\n",
              "      <td>object</td>\n",
              "      <td>38</td>\n",
              "      <td>100.000000</td>\n",
              "    </tr>\n",
              "    <tr>\n",
              "      <th>14</th>\n",
              "      <td>PREAUTH_CASE_PROC_CD_ID</td>\n",
              "      <td>int64</td>\n",
              "      <td>3257</td>\n",
              "      <td>100.000000</td>\n",
              "    </tr>\n",
              "    <tr>\n",
              "      <th>1</th>\n",
              "      <td>PREAUTH_RQST_TYPE_CD</td>\n",
              "      <td>object</td>\n",
              "      <td>5</td>\n",
              "      <td>100.000000</td>\n",
              "    </tr>\n",
              "    <tr>\n",
              "      <th>11</th>\n",
              "      <td>MBR_LOB_NM</td>\n",
              "      <td>object</td>\n",
              "      <td>5</td>\n",
              "      <td>100.000000</td>\n",
              "    </tr>\n",
              "    <tr>\n",
              "      <th>25</th>\n",
              "      <td>DIAG_CD</td>\n",
              "      <td>object</td>\n",
              "      <td>1111</td>\n",
              "      <td>100.000000</td>\n",
              "    </tr>\n",
              "    <tr>\n",
              "      <th>8</th>\n",
              "      <td>GNDR</td>\n",
              "      <td>object</td>\n",
              "      <td>2</td>\n",
              "      <td>100.000000</td>\n",
              "    </tr>\n",
              "    <tr>\n",
              "      <th>7</th>\n",
              "      <td>DT_OF_BRTH</td>\n",
              "      <td>object</td>\n",
              "      <td>2923</td>\n",
              "      <td>100.000000</td>\n",
              "    </tr>\n",
              "    <tr>\n",
              "      <th>4</th>\n",
              "      <td>RCPT_MTHD_TXT</td>\n",
              "      <td>object</td>\n",
              "      <td>12</td>\n",
              "      <td>100.000000</td>\n",
              "    </tr>\n",
              "    <tr>\n",
              "      <th>3</th>\n",
              "      <td>PLACE_OF_SRVC_NM</td>\n",
              "      <td>int64</td>\n",
              "      <td>10</td>\n",
              "      <td>100.000000</td>\n",
              "    </tr>\n",
              "    <tr>\n",
              "      <th>2</th>\n",
              "      <td>CASE_TYPE_CD</td>\n",
              "      <td>object</td>\n",
              "      <td>13</td>\n",
              "      <td>100.000000</td>\n",
              "    </tr>\n",
              "    <tr>\n",
              "      <th>9</th>\n",
              "      <td>ST</td>\n",
              "      <td>object</td>\n",
              "      <td>52</td>\n",
              "      <td>99.969297</td>\n",
              "    </tr>\n",
              "    <tr>\n",
              "      <th>18</th>\n",
              "      <td>SRCV_QTY</td>\n",
              "      <td>float64</td>\n",
              "      <td>83</td>\n",
              "      <td>99.938594</td>\n",
              "    </tr>\n",
              "    <tr>\n",
              "      <th>15</th>\n",
              "      <td>PROC_CD</td>\n",
              "      <td>object</td>\n",
              "      <td>840</td>\n",
              "      <td>96.100706</td>\n",
              "    </tr>\n",
              "    <tr>\n",
              "      <th>17</th>\n",
              "      <td>PRMRY_IND</td>\n",
              "      <td>float64</td>\n",
              "      <td>2</td>\n",
              "      <td>96.100706</td>\n",
              "    </tr>\n",
              "    <tr>\n",
              "      <th>13</th>\n",
              "      <td>FUNDG_TYPE_CD</td>\n",
              "      <td>object</td>\n",
              "      <td>2</td>\n",
              "      <td>92.754068</td>\n",
              "    </tr>\n",
              "    <tr>\n",
              "      <th>12</th>\n",
              "      <td>PROD_FMLY_CD</td>\n",
              "      <td>object</td>\n",
              "      <td>6</td>\n",
              "      <td>87.964384</td>\n",
              "    </tr>\n",
              "    <tr>\n",
              "      <th>16</th>\n",
              "      <td>PROC_MDFR_CD</td>\n",
              "      <td>object</td>\n",
              "      <td>12</td>\n",
              "      <td>30.457476</td>\n",
              "    </tr>\n",
              "    <tr>\n",
              "      <th>5</th>\n",
              "      <td>DSCHG_DT</td>\n",
              "      <td>object</td>\n",
              "      <td>111</td>\n",
              "      <td>11.759288</td>\n",
              "    </tr>\n",
              "    <tr>\n",
              "      <th>22</th>\n",
              "      <td>ADDNL_CLNCL_INFO_RCVD_TXT</td>\n",
              "      <td>object</td>\n",
              "      <td>2</td>\n",
              "      <td>10.408351</td>\n",
              "    </tr>\n",
              "    <tr>\n",
              "      <th>6</th>\n",
              "      <td>ADDNL_DSCHRG_DISP_INFO_TXT</td>\n",
              "      <td>object</td>\n",
              "      <td>4</td>\n",
              "      <td>0.982499</td>\n",
              "    </tr>\n",
              "  </tbody>\n",
              "</table>\n",
              "</div>"
            ],
            "text/plain": [
              "                       varname    dtype  nunique  response_rate\n",
              "0              preauth_rqst_id    int64     3216     100.000000\n",
              "10               MBR_PLN_ST_CD   object       35     100.000000\n",
              "24                STTS_RSN_TXT   object       52     100.000000\n",
              "23                PROC_CD_DCSN    int64        2     100.000000\n",
              "21              LVL_OF_SRVC_NM    int64        3     100.000000\n",
              "20                RVW_TYPE_TXT   object        3     100.000000\n",
              "19                      TOS_NM   object       38     100.000000\n",
              "14     PREAUTH_CASE_PROC_CD_ID    int64     3257     100.000000\n",
              "1         PREAUTH_RQST_TYPE_CD   object        5     100.000000\n",
              "11                  MBR_LOB_NM   object        5     100.000000\n",
              "25                     DIAG_CD   object     1111     100.000000\n",
              "8                         GNDR   object        2     100.000000\n",
              "7                   DT_OF_BRTH   object     2923     100.000000\n",
              "4                RCPT_MTHD_TXT   object       12     100.000000\n",
              "3             PLACE_OF_SRVC_NM    int64       10     100.000000\n",
              "2                 CASE_TYPE_CD   object       13     100.000000\n",
              "9                           ST   object       52      99.969297\n",
              "18                    SRCV_QTY  float64       83      99.938594\n",
              "15                     PROC_CD   object      840      96.100706\n",
              "17                   PRMRY_IND  float64        2      96.100706\n",
              "13               FUNDG_TYPE_CD   object        2      92.754068\n",
              "12                PROD_FMLY_CD   object        6      87.964384\n",
              "16                PROC_MDFR_CD   object       12      30.457476\n",
              "5                     DSCHG_DT   object      111      11.759288\n",
              "22   ADDNL_CLNCL_INFO_RCVD_TXT   object        2      10.408351\n",
              "6   ADDNL_DSCHRG_DISP_INFO_TXT   object        4       0.982499"
            ]
          },
          "metadata": {
            "tags": []
          },
          "execution_count": 8
        }
      ]
    },
    {
      "cell_type": "code",
      "metadata": {
        "id": "ta3Ga4BzRB5H",
        "colab_type": "code",
        "outputId": "f19cd916-0785-4998-b290-a11f5834e629",
        "colab": {}
      },
      "source": [
        "sns.countplot(x='LVL_OF_SRVC_NM', hue=\"PROC_CD_DCSN\", data=df);"
      ],
      "execution_count": 0,
      "outputs": [
        {
          "output_type": "display_data",
          "data": {
            "image/png": "[encoded data removed]",
            "text/plain": [
              "<Figure size 432x288 with 1 Axes>"
            ]
          },
          "metadata": {
            "tags": [],
            "needs_background": "light"
          }
        }
      ]
    },
    {
      "cell_type": "markdown",
      "metadata": {
        "id": "pn-UeaUCRB5K",
        "colab_type": "text"
      },
      "source": [
        "### train-test split"
      ]
    },
    {
      "cell_type": "code",
      "metadata": {
        "id": "NzDL_VykRB5L",
        "colab_type": "code",
        "outputId": "26e246c2-32b7-406e-e32f-789dfdece3d4",
        "colab": {}
      },
      "source": [
        "msk = np.random.rand(len(df)) < 0.8\n",
        "train = df[msk]\n",
        "test = df[~msk]\n",
        "print(\"After train-test split\")\n",
        "print(train.shape, test.shape)"
      ],
      "execution_count": 0,
      "outputs": [
        {
          "output_type": "stream",
          "text": [
            "After train-test split\n",
            "(2573, 26) (684, 26)\n"
          ],
          "name": "stdout"
        }
      ]
    },
    {
      "cell_type": "markdown",
      "metadata": {
        "id": "Mm7DuOimRB5O",
        "colab_type": "text"
      },
      "source": [
        "### pre-processing"
      ]
    },
    {
      "cell_type": "code",
      "metadata": {
        "id": "rCRgbJwwRB5P",
        "colab_type": "code",
        "colab": {}
      },
      "source": [
        "def pre_process(data):\n",
        "    \n",
        "    data = data.drop_duplicates(subset=['PREAUTH_CASE_PROC_CD_ID'], keep='first')\n",
        "    \n",
        "    #change - from date-of-birth to patient-age\n",
        "    data['DT_OF_BRTH'] =  pd.to_datetime(data['DT_OF_BRTH'], format=\"'%Y-%m-%d %H:%M:%S'\")\n",
        "    data['patient_age'] = (datetime.datetime.now() - data['DT_OF_BRTH']).astype('<m8[Y]')\n",
        "    data = data.drop('DT_OF_BRTH', axis=1)\n",
        "\n",
        "    #combine 3 request_type INPATIENT categories into single category\n",
        "    data['PREAUTH_RQST_TYPE_CD'] = data['PREAUTH_RQST_TYPE_CD'].replace(['Inpatient-Preservice', 'Inpatient-Continued Stay', 'Inpatient-Retrospective'], 'Inpatient')\n",
        "\n",
        "    data = data.dropna(subset=['SRCV_QTY'], how='all')\n",
        "    #data = data.dropna(subset=['RCPT_MTHD_TXT'], how='all')\n",
        "    #data = data.dropna(subset=['RVW_TYPE_TXT'], how='all')\n",
        "    data = data.dropna(subset=['ST'], how='all')\n",
        "    #data = data.dropna(subset=['STTS_RSN_TXT'], how='all')\n",
        "    #data = data.dropna(subset=['RVW_TYPE_TXT'], how='all')\n",
        "    data = data.dropna(subset=['PROC_CD'], how='all')\n",
        "\n",
        "    data['PRMRY_IND'] = data['PRMRY_IND'].fillna(0)\n",
        "    #data['CASE_SpcLTY'] = data['CASE_SpcLTY'].fillna(0)\n",
        "    #data['CASE_SpcLTY_DETAIL'] = data['CASE_SpcLTY_DETAIL'].fillna(0)\n",
        "    #data['MBR_ELGBL_IND'] = data['MBR_ELGBL_IND'].fillna(1)\n",
        "\n",
        "    data['FUNDG_TYPE_CD'] = data['FUNDG_TYPE_CD'].fillna('Not Known')\n",
        "    data['PROD_FMLY_CD'] = data['PROD_FMLY_CD'].fillna('Not Known')\n",
        "\n",
        "    data = data.drop('ADDNL_DSCHRG_DISP_INFO_TXT', axis=1)\n",
        "    data = data.drop('ADDNL_CLNCL_INFO_RCVD_TXT', axis=1)\n",
        "    data = data.drop('preauth_rqst_id', axis=1)\n",
        "    data = data.drop('DSCHG_DT', axis=1)\n",
        "    data = data.drop('PROC_MDFR_CD', axis=1)\n",
        "    data = data.drop('PREAUTH_CASE_PROC_CD_ID', axis=1)\n",
        "    data = data.drop('STTS_RSN_TXT', axis=1)\n",
        "\n",
        "\n",
        "    #typecasting\n",
        "    type_object = ['PLACE_OF_SRVC_NM', 'ST', 'MBR_PLN_ST_CD', 'PROC_CD', 'TOS_NM', 'LVL_OF_SRVC_NM', 'DIAG_CD']\n",
        "    #type_object.append('STTS_RSN_TXT')\n",
        "    data[type_object] = data[type_object].astype(object)\n",
        "\n",
        "    #map-encoding\n",
        "    data['GNDR'] = data['GNDR'].map({'F':1, 'M':0})\n",
        "    #data['ADDNL_CLNCL_INFO_RCVD_TXT'] = data['ADDNL_CLNCL_INFO_RCVD_TXT'].map({'yes':1, 'no':0})\n",
        "    \n",
        "    return data"
      ],
      "execution_count": 0,
      "outputs": []
    },
    {
      "cell_type": "code",
      "metadata": {
        "id": "gEsxhR_ERB5T",
        "colab_type": "code",
        "outputId": "bd8ff9aa-bbab-49ef-a067-7bf821330391",
        "colab": {}
      },
      "source": [
        "train = pre_process(train)\n",
        "test = pre_process(test)\n",
        "print(\"\\nAfter pre-processing\")\n",
        "print(train.shape, test.shape)"
      ],
      "execution_count": 0,
      "outputs": [
        {
          "output_type": "stream",
          "text": [
            "\n",
            "After pre-processing\n",
            "(2469, 19) (660, 19)\n"
          ],
          "name": "stdout"
        }
      ]
    },
    {
      "cell_type": "code",
      "metadata": {
        "id": "82Ui-B6jRB5V",
        "colab_type": "code",
        "colab": {}
      },
      "source": [
        "# Outlier detection \n",
        "def detect_outliers(df,col):\n",
        "    outlier_indices = []\n",
        "    Q1 = np.percentile(df[col],25)\n",
        "    Q3 = np.percentile(df[col],75)\n",
        "    IQR = Q3 - Q1\n",
        "    outlier_step = 1.5 * IQR\n",
        "    outlier_list_col = df[(df[col] < Q1 - outlier_step) | (df[col] > Q3 + outlier_step )].index\n",
        "    outlier_indices.extend(outlier_list_col)\n",
        "    return outlier_indices\n",
        "\n",
        "#detect_outliers(train,'SRCV_QTY')"
      ],
      "execution_count": 0,
      "outputs": []
    },
    {
      "cell_type": "code",
      "metadata": {
        "id": "qrreBM2HRB5Y",
        "colab_type": "code",
        "outputId": "b8abb502-f04c-42e5-8cec-50bbea52adfe",
        "colab": {}
      },
      "source": [
        "#plot distributions of age of passengers who survived or did not survive\n",
        "a = sns.FacetGrid(train, hue = 'PROC_CD_DCSN', aspect=6 )\n",
        "a.map(sns.kdeplot, 'patient_age', shade= True )\n",
        "a.set(xlim=(0 , train['patient_age'].max()))\n",
        "a.add_legend()"
      ],
      "execution_count": 0,
      "outputs": [
        {
          "output_type": "execute_result",
          "data": {
            "text/plain": [
              "<seaborn.axisgrid.FacetGrid at 0xf35ee10>"
            ]
          },
          "metadata": {
            "tags": []
          },
          "execution_count": 14
        },
        {
          "output_type": "display_data",
          "data": {
            "image/png": "[encoded data removed]",
            "text/plain": [
              "<Figure size 1400.75x216 with 1 Axes>"
            ]
          },
          "metadata": {
            "tags": [],
            "needs_background": "light"
          }
        }
      ]
    },
    {
      "cell_type": "code",
      "metadata": {
        "id": "rTCTrfTKRB5a",
        "colab_type": "code",
        "outputId": "4179bac5-7ecf-4e87-9102-d5802e7ae8ee",
        "colab": {}
      },
      "source": [
        "sns.boxplot(y=train['SRCV_QTY'])"
      ],
      "execution_count": 0,
      "outputs": [
        {
          "output_type": "execute_result",
          "data": {
            "text/plain": [
              "<matplotlib.axes._subplots.AxesSubplot at 0xf1e9a90>"
            ]
          },
          "metadata": {
            "tags": []
          },
          "execution_count": 15
        },
        {
          "output_type": "display_data",
          "data": {
            "image/png": "[encoded data removed]",
            "text/plain": [
              "<Figure size 432x288 with 1 Axes>"
            ]
          },
          "metadata": {
            "tags": [],
            "needs_background": "light"
          }
        }
      ]
    },
    {
      "cell_type": "code",
      "metadata": {
        "id": "lYYU1jW4RB5d",
        "colab_type": "code",
        "outputId": "eb2a6150-6baa-4c0a-88ca-06b7d8cb44bf",
        "colab": {}
      },
      "source": [
        "meta(train).sort_values(by='response_rate', ascending=False)"
      ],
      "execution_count": 0,
      "outputs": [
        {
          "output_type": "execute_result",
          "data": {
            "text/html": [
              "<div>\n",
              "<style scoped>\n",
              "    .dataframe tbody tr th:only-of-type {\n",
              "        vertical-align: middle;\n",
              "    }\n",
              "\n",
              "    .dataframe tbody tr th {\n",
              "        vertical-align: top;\n",
              "    }\n",
              "\n",
              "    .dataframe thead th {\n",
              "        text-align: right;\n",
              "    }\n",
              "</style>\n",
              "<table border=\"1\" class=\"dataframe\">\n",
              "  <thead>\n",
              "    <tr style=\"text-align: right;\">\n",
              "      <th></th>\n",
              "      <th>varname</th>\n",
              "      <th>dtype</th>\n",
              "      <th>nunique</th>\n",
              "      <th>response_rate</th>\n",
              "    </tr>\n",
              "  </thead>\n",
              "  <tbody>\n",
              "    <tr>\n",
              "      <th>0</th>\n",
              "      <td>PREAUTH_RQST_TYPE_CD</td>\n",
              "      <td>object</td>\n",
              "      <td>3</td>\n",
              "      <td>100.0</td>\n",
              "    </tr>\n",
              "    <tr>\n",
              "      <th>10</th>\n",
              "      <td>PROC_CD</td>\n",
              "      <td>object</td>\n",
              "      <td>730</td>\n",
              "      <td>100.0</td>\n",
              "    </tr>\n",
              "    <tr>\n",
              "      <th>17</th>\n",
              "      <td>DIAG_CD</td>\n",
              "      <td>object</td>\n",
              "      <td>933</td>\n",
              "      <td>100.0</td>\n",
              "    </tr>\n",
              "    <tr>\n",
              "      <th>16</th>\n",
              "      <td>PROC_CD_DCSN</td>\n",
              "      <td>int64</td>\n",
              "      <td>2</td>\n",
              "      <td>100.0</td>\n",
              "    </tr>\n",
              "    <tr>\n",
              "      <th>15</th>\n",
              "      <td>LVL_OF_SRVC_NM</td>\n",
              "      <td>object</td>\n",
              "      <td>3</td>\n",
              "      <td>100.0</td>\n",
              "    </tr>\n",
              "    <tr>\n",
              "      <th>14</th>\n",
              "      <td>RVW_TYPE_TXT</td>\n",
              "      <td>object</td>\n",
              "      <td>3</td>\n",
              "      <td>100.0</td>\n",
              "    </tr>\n",
              "    <tr>\n",
              "      <th>13</th>\n",
              "      <td>TOS_NM</td>\n",
              "      <td>object</td>\n",
              "      <td>36</td>\n",
              "      <td>100.0</td>\n",
              "    </tr>\n",
              "    <tr>\n",
              "      <th>12</th>\n",
              "      <td>SRCV_QTY</td>\n",
              "      <td>float64</td>\n",
              "      <td>77</td>\n",
              "      <td>100.0</td>\n",
              "    </tr>\n",
              "    <tr>\n",
              "      <th>11</th>\n",
              "      <td>PRMRY_IND</td>\n",
              "      <td>float64</td>\n",
              "      <td>2</td>\n",
              "      <td>100.0</td>\n",
              "    </tr>\n",
              "    <tr>\n",
              "      <th>9</th>\n",
              "      <td>FUNDG_TYPE_CD</td>\n",
              "      <td>object</td>\n",
              "      <td>3</td>\n",
              "      <td>100.0</td>\n",
              "    </tr>\n",
              "    <tr>\n",
              "      <th>1</th>\n",
              "      <td>CASE_TYPE_CD</td>\n",
              "      <td>object</td>\n",
              "      <td>12</td>\n",
              "      <td>100.0</td>\n",
              "    </tr>\n",
              "    <tr>\n",
              "      <th>8</th>\n",
              "      <td>PROD_FMLY_CD</td>\n",
              "      <td>object</td>\n",
              "      <td>6</td>\n",
              "      <td>100.0</td>\n",
              "    </tr>\n",
              "    <tr>\n",
              "      <th>7</th>\n",
              "      <td>MBR_LOB_NM</td>\n",
              "      <td>object</td>\n",
              "      <td>5</td>\n",
              "      <td>100.0</td>\n",
              "    </tr>\n",
              "    <tr>\n",
              "      <th>6</th>\n",
              "      <td>MBR_PLN_ST_CD</td>\n",
              "      <td>object</td>\n",
              "      <td>34</td>\n",
              "      <td>100.0</td>\n",
              "    </tr>\n",
              "    <tr>\n",
              "      <th>5</th>\n",
              "      <td>ST</td>\n",
              "      <td>object</td>\n",
              "      <td>51</td>\n",
              "      <td>100.0</td>\n",
              "    </tr>\n",
              "    <tr>\n",
              "      <th>4</th>\n",
              "      <td>GNDR</td>\n",
              "      <td>int64</td>\n",
              "      <td>2</td>\n",
              "      <td>100.0</td>\n",
              "    </tr>\n",
              "    <tr>\n",
              "      <th>3</th>\n",
              "      <td>RCPT_MTHD_TXT</td>\n",
              "      <td>object</td>\n",
              "      <td>12</td>\n",
              "      <td>100.0</td>\n",
              "    </tr>\n",
              "    <tr>\n",
              "      <th>2</th>\n",
              "      <td>PLACE_OF_SRVC_NM</td>\n",
              "      <td>object</td>\n",
              "      <td>10</td>\n",
              "      <td>100.0</td>\n",
              "    </tr>\n",
              "    <tr>\n",
              "      <th>18</th>\n",
              "      <td>patient_age</td>\n",
              "      <td>float64</td>\n",
              "      <td>87</td>\n",
              "      <td>100.0</td>\n",
              "    </tr>\n",
              "  </tbody>\n",
              "</table>\n",
              "</div>"
            ],
            "text/plain": [
              "                 varname    dtype  nunique  response_rate\n",
              "0   PREAUTH_RQST_TYPE_CD   object        3          100.0\n",
              "10               PROC_CD   object      730          100.0\n",
              "17               DIAG_CD   object      933          100.0\n",
              "16          PROC_CD_DCSN    int64        2          100.0\n",
              "15        LVL_OF_SRVC_NM   object        3          100.0\n",
              "14          RVW_TYPE_TXT   object        3          100.0\n",
              "13                TOS_NM   object       36          100.0\n",
              "12              SRCV_QTY  float64       77          100.0\n",
              "11             PRMRY_IND  float64        2          100.0\n",
              "9          FUNDG_TYPE_CD   object        3          100.0\n",
              "1           CASE_TYPE_CD   object       12          100.0\n",
              "8           PROD_FMLY_CD   object        6          100.0\n",
              "7             MBR_LOB_NM   object        5          100.0\n",
              "6          MBR_PLN_ST_CD   object       34          100.0\n",
              "5                     ST   object       51          100.0\n",
              "4                   GNDR    int64        2          100.0\n",
              "3          RCPT_MTHD_TXT   object       12          100.0\n",
              "2       PLACE_OF_SRVC_NM   object       10          100.0\n",
              "18           patient_age  float64       87          100.0"
            ]
          },
          "metadata": {
            "tags": []
          },
          "execution_count": 16
        }
      ]
    },
    {
      "cell_type": "markdown",
      "metadata": {
        "id": "4RPGleP_RB5h",
        "colab_type": "text"
      },
      "source": [
        "## Correlation Analysis\n",
        "Calculate the correlation/strength-of-association of features in data-set with both categorical (eda_tools) and continuous features using:\n",
        "     - Pearson's R for continuous-continuous cases\n",
        "     - Correlation Ratio for categorical-continuous cases\n",
        "     - Cramer's V or Theil's U for categorical-categorical cases"
      ]
    },
    {
      "cell_type": "code",
      "metadata": {
        "id": "JgztyilNRB5h",
        "colab_type": "code",
        "outputId": "a1483808-2989-4520-bfad-fe35f518efdb",
        "colab": {}
      },
      "source": [
        "from nominal import associations\n",
        "nomcol = [c for c in train.columns.values if c  not in ['SRCV_QTY','patient_age']]\n",
        "associations(train, nominal_columns=nomcol, mark_columns=False, theil_u=True, figsize=(12,12))"
      ],
      "execution_count": 0,
      "outputs": [
        {
          "output_type": "display_data",
          "data": {
            "image/png": "[encoded data removed]",
            "text/plain": [
              "<Figure size 864x864 with 2 Axes>"
            ]
          },
          "metadata": {
            "tags": [],
            "needs_background": "light"
          }
        }
      ]
    },
    {
      "cell_type": "markdown",
      "metadata": {
        "id": "ITNkOT6ORB5k",
        "colab_type": "text"
      },
      "source": [
        "## Data Encoding\n",
        "#### Dealing with Categorical data\n",
        "- For nominal columns try OneHot, Label, Hashing, LeaveOneOut, Target and Weight-of-evidence encoding. Avoid OneHot for high cardinality columns and use label instead for CART models.\n",
        "\n",
        "#### Bayesian Encoders\n",
        "The three Bayesian encoders use information from the dependent variable in their encodings. They all output one column and can work well with high cardinality data.\n",
        "1. Target — use the mean of the DV, must take steps to avoid overfitting/ response leakage. Nominal, ordinal. For classification tasks.\n",
        "2. LeaveOneOut — similar to target but avoids contamination. Nominal, ordinal. For classification tasks.\n",
        "\n",
        "\n",
        "**Important Note:** Remember to do this encoding using ONLY the training data. For the validation / testing / scoring data use a lookup between the categorical label and the calculated value.\n",
        "\n",
        "#### Weight of Evidence - Feature importance analysis\n",
        "The advantages of WOE transformation are:\n",
        "- Handles missing values\n",
        "- Handles outliers\n",
        "- The transformation is based on logarithmic value of distributions. This is aligned with the logistic regression output function\n",
        "- No need for dummy variables\n",
        "- By using proper binning technique, it can establish monotonic relationship (either increase or decrease) between the independent and dependent variable\n",
        "\n",
        "Monotonic binning ensures linear relationship is established between independent and dependent variable. In the code, two functions **mono_bin()** and **char_bin()** are used for numeric variables and for character variables respectively. Spearman correlation is used to perform monotonic binning.\n",
        "\n",
        "##### Rules related to WOE\n",
        "- Each category (bin) should have at least 5% of the observations.\n",
        "- Each category (bin) should be non-zero for both non-events and events.\n",
        "- The WOE should be distinct for each category. Similar groups should be aggregated.\n",
        "- The WOE should be monotonic, i.e. either growing or decreasing with the groupings.\n",
        "- Missing values are binned separately.\n",
        "\n",
        "#### To know more:  http://www.saedsayad.com/encoding.htm"
      ]
    },
    {
      "cell_type": "code",
      "metadata": {
        "id": "tcBxF18MRB5l",
        "colab_type": "code",
        "colab": {}
      },
      "source": [
        "'''Functions'''\n",
        "\n",
        "def dummy_encode(data,dummy_encode):\n",
        "    data = pd.concat([data,pd.get_dummies(data[dummy_encode])],axis=1).drop(dummy_encode,axis=1)\n",
        "    return data\n",
        "\n",
        "def label_encode(data, label_encode):\n",
        "    data_temp = data.copy()\n",
        "    for feat in label_encode:\n",
        "        encoder = preprocessing.LabelEncoder()\n",
        "        data_temp[feat] = encoder.fit_transform(data_temp[feat].values)\n",
        "    return data_temp\n",
        "\n",
        "def encode_train(data, encode, enc_list):\n",
        "    #cardinal_encode.append('STTS_RSN_TXT')\n",
        "    data = data.reset_index(drop=True)\n",
        "    X3 = data.drop('PROC_CD_DCSN', axis=1)\n",
        "    y3 = data['PROC_CD_DCSN']\n",
        "    \n",
        "    if encode=='leaveoneout':\n",
        "        enc = ce.LeaveOneOutEncoder(cols=enc_list)\n",
        "    elif encode=='target':\n",
        "        enc = ce.TargetEncoder(cols=enc_list)\n",
        "    elif encode=='woe':\n",
        "        enc = WOEEncoder(cols=enc_list)\n",
        "    elif encode=='hash':\n",
        "        enc = ce.HashingEncoder(cols=enc_list)\n",
        "    \n",
        "    enc.fit(X3, y3)\n",
        "    data = enc.transform(X3)\n",
        "    data['PROC_CD_DCSN'] = y3\n",
        "    return data,enc\n",
        "\n",
        "def encode_test(data, enc):\n",
        "    data = data.reset_index(drop=True)\n",
        "    X3 = data.drop('PROC_CD_DCSN', axis=1)\n",
        "    y3 = data['PROC_CD_DCSN']\n",
        "    data = enc.transform(X3)\n",
        "    data['PROC_CD_DCSN'] = y3\n",
        "    return data\n",
        "\n",
        "def encode_wrapper(train, test, encode, label=1):\n",
        "    obj_list = train.select_dtypes('object').columns\n",
        "    enc_list = ['MBR_PLN_ST_CD', 'TOS_NM', 'DIAG_CD', 'ST', 'PROC_CD']\n",
        "    le_list = [x for x in list(obj_list) if x not in enc_list]\n",
        "\n",
        "    if label==1:\n",
        "        train,te = encode_train(train, encode, enc_list)\n",
        "        test = encode_test(test, te)\n",
        "        train = label_encode(train, le_list)\n",
        "        test = label_encode(test, le_list)\n",
        "    elif label==0:\n",
        "        train,te = encode_train(train, encode, enc_list)\n",
        "        test = encode_test(test, te)\n",
        "        train = dummy_encode(train, le_list)\n",
        "        test = dummy_encode(test, le_list)\n",
        "        train,test = train.align(test, join='outer', axis=1, fill_value=0)\n",
        "    else:\n",
        "        train,te = encode_train(train, encode, obj_list.tolist())\n",
        "        test = encode_test(test, te)\n",
        "        \n",
        "    print('Shape after '+encode+' encoding')\n",
        "    print(train.shape, test.shape)\n",
        "    return train,test"
      ],
      "execution_count": 0,
      "outputs": []
    },
    {
      "cell_type": "code",
      "metadata": {
        "id": "KLXm2tzWRB5o",
        "colab_type": "code",
        "outputId": "8b0eded0-83e6-4386-e183-fa30caad595d",
        "colab": {}
      },
      "source": [
        "'''Encoder pickling for server'''\n",
        "# obj_list = train.select_dtypes('object').columns.tolist()\n",
        "# data = train.copy()\n",
        "# data = data.reset_index(drop=True)\n",
        "# X3 = data.drop('PROC_CD_DCSN', axis=1)\n",
        "# y3 = data['PROC_CD_DCSN']\n",
        "# enc = ce.TargetEncoder(cols=obj_list)\n",
        "# enc.fit(X3, y3)\n",
        "\n",
        "# from sklearn.externals import joblib\n",
        "# joblib.dump(enc, 'enc.joblib') "
      ],
      "execution_count": 0,
      "outputs": [
        {
          "output_type": "execute_result",
          "data": {
            "text/plain": [
              "'Encoder pickling for server'"
            ]
          },
          "metadata": {
            "tags": []
          },
          "execution_count": 18
        }
      ]
    },
    {
      "cell_type": "code",
      "metadata": {
        "id": "B2R8Hg-ARB5q",
        "colab_type": "code",
        "colab": {}
      },
      "source": [
        "# #### One-hot encoding of all categorical variables\n",
        "# obj_list = train.select_dtypes('object').columns\n",
        "# train_dummy = train.copy()\n",
        "# test_dummy = test.copy()\n",
        "# train_dummy = dummy_encode(train_dummy, obj_list)\n",
        "# test_dummy = dummy_encode(test_dummy, obj_list)\n",
        "# print('Shape after dummy encoding')\n",
        "# print(train_dummy.shape, test_dummy.shape)\n",
        "# gc.collect()\n",
        "\n",
        "# #### Label encoding of all categorical variables (suitable only for CART models)\n",
        "# obj_list = train.select_dtypes('object').columns\n",
        "# train_le = train.copy()\n",
        "# test_le = test.copy()\n",
        "# train_le = label_encode(train_le, obj_list)\n",
        "# test_le = label_encode(test_le, obj_list)\n",
        "# print('Shape after label encoding')\n",
        "# print(train_le.shape, test_le.shape)\n",
        "# gc.collect()"
      ],
      "execution_count": 0,
      "outputs": []
    },
    {
      "cell_type": "code",
      "metadata": {
        "id": "8RZFnOxiRB5s",
        "colab_type": "code",
        "colab": {}
      },
      "source": [
        "# %%time\n",
        "# #### HTLW of high-cardinal variables and label encoding of other categorical variables (for CART only)\n",
        "# train_hash_le,test_hash_le = encode_wrapper(train, test, 'hash', label=1)\n",
        "# train_target_le,test_target_le = encode_wrapper(train, test, 'target', label=1)\n",
        "# train_leaveoneout_le,test_leaveoneout_le = encode_wrapper(train, test, 'leaveoneout', label=1)\n",
        "# train_woe_le,test_woe_le = encode_wrapper(train, test, 'woe', label=1)\n",
        "# gc.collect()"
      ],
      "execution_count": 0,
      "outputs": []
    },
    {
      "cell_type": "code",
      "metadata": {
        "id": "uH4B1Bl6RB5v",
        "colab_type": "code",
        "outputId": "92cacdfe-57a4-407a-e310-617512c940e3",
        "colab": {}
      },
      "source": [
        "%%time\n",
        "#### HTLW of high-cardinal variables and dummy encoding of other categorical variables\n",
        "#train_hash_ohe,test_hash_ohe = encode_wrapper(train, test, 'hash', label=0)\n",
        "#train_target_ohe,test_target_ohe = encode_wrapper(train, test, 'target', label=0)\n",
        "#train_leaveoneout_ohe,test_leaveoneout_ohe = encode_wrapper(train, test, 'leaveoneout', label=0)\n",
        "#train_woe_ohe,test_woe_ohe = encode_wrapper(train, test, 'woe', label=0)\n",
        "#gc.collect()"
      ],
      "execution_count": 0,
      "outputs": [
        {
          "output_type": "stream",
          "text": [
            "Wall time: 0 ns\n"
          ],
          "name": "stdout"
        }
      ]
    },
    {
      "cell_type": "code",
      "metadata": {
        "id": "nelwJZaBRB5x",
        "colab_type": "code",
        "outputId": "94e79d81-7582-4809-d754-4a9bc086eaca",
        "colab": {}
      },
      "source": [
        "%%time\n",
        "#### HTLW of all categorical variables\n",
        "#train_hash_all,test_hash_all = encode_wrapper(train, test, 'hash', label=-1)\n",
        "train_target_all,test_target_all = encode_wrapper(train, test, 'target', label=-1)\n",
        "#train_leaveoneout_all,test_leaveoneout_all = encode_wrapper(train, test, 'leaveoneout', label=-1)\n",
        "#train_woe_all,test_woe_all = encode_wrapper(train, test, 'woe', label=-1)\n",
        "gc.collect()"
      ],
      "execution_count": 0,
      "outputs": [
        {
          "output_type": "stream",
          "text": [
            "Shape after target encoding\n",
            "(2469, 19) (660, 19)\n",
            "Wall time: 1min 15s\n"
          ],
          "name": "stdout"
        }
      ]
    },
    {
      "cell_type": "code",
      "metadata": {
        "id": "6RRlzk3qRB51",
        "colab_type": "code",
        "colab": {}
      },
      "source": [
        "data = train_target_all"
      ],
      "execution_count": 0,
      "outputs": []
    },
    {
      "cell_type": "markdown",
      "metadata": {
        "id": "g83qZnysRB55",
        "colab_type": "text"
      },
      "source": [
        "### PCA 2-D visualization of data"
      ]
    },
    {
      "cell_type": "code",
      "metadata": {
        "id": "EmXPdUkbRB55",
        "colab_type": "code",
        "outputId": "fd70e194-54d4-4829-cc67-7417c37fb614",
        "colab": {}
      },
      "source": [
        "data.columns"
      ],
      "execution_count": 0,
      "outputs": [
        {
          "output_type": "execute_result",
          "data": {
            "text/plain": [
              "Index(['PREAUTH_RQST_TYPE_CD', 'CASE_TYPE_CD', 'PLACE_OF_SRVC_NM',\n",
              "       'RCPT_MTHD_TXT', 'GNDR', 'ST', 'MBR_PLN_ST_CD', 'MBR_LOB_NM',\n",
              "       'PROD_FMLY_CD', 'FUNDG_TYPE_CD', 'PROC_CD', 'PRMRY_IND', 'SRCV_QTY',\n",
              "       'TOS_NM', 'RVW_TYPE_TXT', 'LVL_OF_SRVC_NM', 'DIAG_CD', 'patient_age',\n",
              "       'PROC_CD_DCSN'],\n",
              "      dtype='object')"
            ]
          },
          "metadata": {
            "tags": []
          },
          "execution_count": 24
        }
      ]
    },
    {
      "cell_type": "code",
      "metadata": {
        "id": "5ErCw62tRB58",
        "colab_type": "code",
        "outputId": "e8ad31a1-c56a-4ac8-f931-66b7d2a535b9",
        "colab": {}
      },
      "source": [
        "data['CASE_TYPE_CD'].nunique()"
      ],
      "execution_count": 0,
      "outputs": [
        {
          "output_type": "execute_result",
          "data": {
            "text/plain": [
              "10"
            ]
          },
          "metadata": {
            "tags": []
          },
          "execution_count": 28
        }
      ]
    },
    {
      "cell_type": "code",
      "metadata": {
        "id": "NLEgbwloRB5-",
        "colab_type": "code",
        "colab": {}
      },
      "source": [
        "var = 'CASE_TYPE_CD'"
      ],
      "execution_count": 0,
      "outputs": []
    },
    {
      "cell_type": "code",
      "metadata": {
        "id": "8-W6IfzKRB6B",
        "colab_type": "code",
        "outputId": "f47ca306-2023-47b2-edde-ada2d3dfe762",
        "colab": {}
      },
      "source": [
        "from sklearn.decomposition import PCA\n",
        "\n",
        "X = data.drop(var, axis=1).values\n",
        "# Convert the diagnosis column to numeric format\n",
        "y1 = data[var]#.factorize()[0]\n",
        "\n",
        "# Rescale data before PCA\n",
        "X_scale = preprocessing.StandardScaler().fit_transform(X)\n",
        "\n",
        "# Invoke the PCA method. Since this is a binary classification problem, let's call n_components = 2\n",
        "pca = PCA(n_components=2)\n",
        "pca_2d = pca.fit_transform(X_scale)\n",
        "\n",
        "x = pca_2d[:,0]\n",
        "y = pca_2d[:,1]\n",
        "plt.scatter(x,y, c=y1, edgecolor=\"None\", alpha=1)\n",
        "plt.show()"
      ],
      "execution_count": 0,
      "outputs": [
        {
          "output_type": "display_data",
          "data": {
            "image/png": "[encoded data removed]",
            "text/plain": [
              "<Figure size 432x288 with 1 Axes>"
            ]
          },
          "metadata": {
            "tags": [],
            "needs_background": "light"
          }
        }
      ]
    },
    {
      "cell_type": "markdown",
      "metadata": {
        "id": "Ldh8sJD8RB6D",
        "colab_type": "text"
      },
      "source": [
        "### TSNE and PCA 2-D visualization of data"
      ]
    },
    {
      "cell_type": "code",
      "metadata": {
        "id": "2euUkUlaRB6E",
        "colab_type": "code",
        "outputId": "c755bb82-3c65-46fc-e3fc-3c55409f7060",
        "colab": {}
      },
      "source": [
        "from sklearn.manifold import TSNE\n",
        "\n",
        "X = data.drop(var, axis=1).values\n",
        "# Convert the diagnosis column to numeric format\n",
        "y1 = data[var].factorize()[0]\n",
        "\n",
        "# Rescale data before TSNE\n",
        "X_scale = preprocessing.StandardScaler().fit_transform(X)\n",
        "\n",
        "# Sklearn TSNE\n",
        "tsne = TSNE(n_components=2, init='pca', random_state=0, learning_rate=100, verbose=1)\n",
        "X_t = tsne.fit_transform(X_scale)\n",
        "\n",
        "x = X_t[:,0]\n",
        "y = X_t[:,1]\n",
        "plt.scatter(x,y, c=y1, cmap=\"coolwarm\", edgecolor=\"None\", alpha=0.8)\n",
        "plt.show()"
      ],
      "execution_count": 0,
      "outputs": [
        {
          "output_type": "stream",
          "text": [
            "[t-SNE] Computing 91 nearest neighbors...\n",
            "[t-SNE] Indexed 2508 samples in 0.001s...\n",
            "[t-SNE] Computed neighbors for 2508 samples in 0.339s...\n",
            "[t-SNE] Computed conditional probabilities for sample 1000 / 2508\n",
            "[t-SNE] Computed conditional probabilities for sample 2000 / 2508\n",
            "[t-SNE] Computed conditional probabilities for sample 2508 / 2508\n",
            "[t-SNE] Mean sigma: 0.978086\n",
            "[t-SNE] KL divergence after 250 iterations with early exaggeration: 64.608116\n",
            "[t-SNE] KL divergence after 1000 iterations: 0.731823\n"
          ],
          "name": "stdout"
        },
        {
          "output_type": "display_data",
          "data": {
            "image/png": "[encoded data removed]",
            "text/plain": [
              "<Figure size 432x288 with 1 Axes>"
            ]
          },
          "metadata": {
            "tags": []
          }
        }
      ]
    },
    {
      "cell_type": "markdown",
      "metadata": {
        "id": "KHYwBhGnRB6G",
        "colab_type": "text"
      },
      "source": [
        "### Principal Component Analysis (PCA) convergence"
      ]
    },
    {
      "cell_type": "code",
      "metadata": {
        "id": "zvIQzPOjRB6H",
        "colab_type": "code",
        "outputId": "2aba6883-0762-45a9-c707-7079c4a54e11",
        "colab": {}
      },
      "source": [
        "X = train_target_ohe.drop('PROC_CD_DCSN', axis=1)\n",
        "from sklearn.preprocessing import StandardScaler\n",
        "X_std = StandardScaler().fit_transform(X)\n",
        "\n",
        "from sklearn.decomposition import PCA\n",
        "pca = PCA().fit(X_std)\n",
        "plt.plot(np.cumsum(pca.explained_variance_ratio_))\n",
        "plt.xlim(0,100,1)\n",
        "plt.xlabel('Number of components')\n",
        "plt.ylabel('Cumulative explained variance')"
      ],
      "execution_count": 0,
      "outputs": [
        {
          "output_type": "execute_result",
          "data": {
            "text/plain": [
              "Text(0, 0.5, 'Cumulative explained variance')"
            ]
          },
          "metadata": {
            "tags": []
          },
          "execution_count": 27
        },
        {
          "output_type": "display_data",
          "data": {
            "image/png": "[encoded data removed]",
            "text/plain": [
              "<Figure size 432x288 with 1 Axes>"
            ]
          },
          "metadata": {
            "tags": [],
            "needs_background": "light"
          }
        }
      ]
    },
    {
      "cell_type": "markdown",
      "metadata": {
        "id": "PW8JWPCoRB6J",
        "colab_type": "text"
      },
      "source": [
        "## Machine Learning"
      ]
    },
    {
      "cell_type": "code",
      "metadata": {
        "id": "IYuTJFqRRB6K",
        "colab_type": "code",
        "colab": {}
      },
      "source": [
        "def display_confusion_matrix(sample_test, prediction, score=None, report=None):\n",
        "    cm = metrics.confusion_matrix(sample_test, prediction)\n",
        "    plt.figure(figsize=(5,5))\n",
        "    sns.heatmap(cm, annot=True, fmt=\".3f\", linewidths=.5, square=True, cmap='Blues_r')\n",
        "    plt.ylabel('Actual label')\n",
        "    plt.xlabel('Predicted label')\n",
        "    plt.plot()\n",
        "    if score:\n",
        "        all_sample_title = 'Accuracy Score: {0}'.format(score)\n",
        "        plt.title(all_sample_title, size = 15)\n",
        "    if report:\n",
        "        print(metrics.classification_report(sample_test, prediction))    \n",
        "\n",
        "def cmatrix(model, threshold):\n",
        "    predicted_proba = model.predict_proba(x_test)\n",
        "    predicted = (predicted_proba [:,1] >= threshold).astype('int')\n",
        "    display_confusion_matrix(y_test, predicted)      \n",
        "\n",
        "#ROC Curve is a graphical plot that illustrates the diagnostic ability of a binary classifier system as its \n",
        "#discrimination threshold is varied\n",
        "def plot_roc(model, x_test, y_test):\n",
        "    y_pred_proba = model.predict_proba(x_test)[:, 1]\n",
        "    [fpr, tpr, thr] = metrics.roc_curve(y_test, y_pred_proba)\n",
        "    print(model.__class__.__name__+\" accuracy is %2.3f\" % metrics.accuracy_score(y_test, model.predict(x_test)))\n",
        "    print(model.__class__.__name__+\" log_loss is %2.3f\" % metrics.log_loss(y_test, y_pred_proba))\n",
        "    print(model.__class__.__name__+\" auc is %2.3f\" % metrics.auc(fpr, tpr))\n",
        "\n",
        "    idx = np.min(np.where(tpr > 0.95)) # index of the first threshold for which the sensibility > 0.95\n",
        "\n",
        "    plt.figure()\n",
        "    plt.plot(fpr, tpr, color='coral', label='ROC curve (area = %0.3f)' % metrics.auc(fpr, tpr))\n",
        "    plt.plot([0, 1], [0, 1], 'k--')\n",
        "    plt.plot([0,fpr[idx]], [tpr[idx],tpr[idx]], 'k--', color='blue')\n",
        "    plt.plot([fpr[idx],fpr[idx]], [0,tpr[idx]], 'k--', color='blue')\n",
        "    plt.xlim([0.0, 1.0])\n",
        "    plt.ylim([0.0, 1.05])\n",
        "    plt.xlabel('False Positive Rate (1 - specificity)', fontsize=14)\n",
        "    plt.ylabel('True Positive Rate (recall)', fontsize=14)\n",
        "    plt.title('Receiver operating characteristic (ROC) curve')\n",
        "    plt.legend(loc=\"lower right\")\n",
        "    plt.show()\n",
        "    \n",
        "def plot_pr(model, x_train, y_train):\n",
        "    y_proba_train = model.predict_proba(x_train)[:, 1]\n",
        "    p, r, t = metrics.precision_recall_curve(y_train, y_proba_train)\n",
        "    plt.figure()\n",
        "    plt.title(\"Precision and Recall Scores as a function of the decision threshold\")\n",
        "    plt.plot(t, p[:-1], \"b--\", label=\"Precision\")\n",
        "    plt.plot(t, r[:-1], \"g-\", label=\"Recall\")\n",
        "    plt.ylabel(\"Score\")\n",
        "    plt.xlabel(\"Decision Threshold\")\n",
        "    plt.legend(loc='best')\n",
        "    plt.show()\n",
        "    \n",
        "def print_scores(model, x_test, y_test):\n",
        "    print(\"Accuracy:\", metrics.accuracy_score(y_test, model.predict(x_test)))\n",
        "    print(\"Precision:\", metrics.precision_score(y_test, model.predict(x_test)))\n",
        "    print(\"Recall:\",metrics.recall_score(y_test, model.predict(x_test)))\n",
        "    print(\"F1-score:\",metrics.f1_score(y_test, model.predict(x_test)))\n",
        "    \n",
        "def score_table(model):\n",
        "    results = pd.DataFrame(model.cv_results_)\n",
        "    results = results.sort_values(by='mean_test_precision_score', ascending=False)\n",
        "    results_df = results[['mean_test_precision_score', 'mean_test_recall_score', 'mean_test_accuracy_score', \n",
        "                          'param_max_depth', 'param_max_features', 'param_min_samples_split', \n",
        "                          'param_n_estimators']].round(3)\n",
        "    return results_df\n",
        "\n",
        "\n",
        "scorers = {'precision_score': metrics.make_scorer(metrics.precision_score),\n",
        "           'recall_score': metrics.make_scorer(metrics.recall_score),\n",
        "           'accuracy_score': metrics.make_scorer(metrics.accuracy_score)}\n",
        "\n",
        "\n",
        "# http://www.r2d3.us/visual-intro-to-machine-learning-part-1/\n",
        "# http://www.r2d3.us/visual-intro-to-machine-learning-part-2/\n",
        "\n",
        "def plot_learning_curve(estimator, title, X, y, ylim=None, cv=None, n_jobs=-1, train_sizes=np.linspace(.1, 1.0, 5)):\n",
        "    \"\"\"Generate a simple plot of the test and training learning curve\"\"\"\n",
        "    plt.figure()\n",
        "    plt.title(title)\n",
        "    if ylim is not None:\n",
        "        plt.ylim(*ylim)\n",
        "    plt.xlabel(\"Training examples\")\n",
        "    plt.ylabel(\"Score\")\n",
        "    train_sizes, train_scores, test_scores = learning_curve(\n",
        "        estimator, X, y, cv=cv, n_jobs=n_jobs, train_sizes=train_sizes)\n",
        "    train_scores_mean = np.mean(train_scores, axis=1)\n",
        "    train_scores_std = np.std(train_scores, axis=1)\n",
        "    test_scores_mean = np.mean(test_scores, axis=1)\n",
        "    test_scores_std = np.std(test_scores, axis=1)\n",
        "    plt.grid()\n",
        "\n",
        "    plt.fill_between(train_sizes, train_scores_mean - train_scores_std,\n",
        "                     train_scores_mean + train_scores_std, alpha=0.1,\n",
        "                     color=\"r\")\n",
        "    plt.fill_between(train_sizes, test_scores_mean - test_scores_std,\n",
        "                     test_scores_mean + test_scores_std, alpha=0.1, color=\"g\")\n",
        "    plt.plot(train_sizes, train_scores_mean, 'o-', color=\"r\",\n",
        "             label=\"Training score\")\n",
        "    plt.plot(train_sizes, test_scores_mean, 'o-', color=\"g\",\n",
        "             label=\"Cross-validation score\")\n",
        "    plt.legend(loc=\"best\")\n",
        "    plt.plot()\n",
        "    \n",
        "def train_test_split_me(train, test):\n",
        "    target = 'PROC_CD_DCSN'\n",
        "    x_train = train.drop([target], axis=1)\n",
        "    y_train = train[target]\n",
        "    x_test = test.drop([target], axis=1)\n",
        "    y_test = test[target]\n",
        "    return x_train, x_test, y_train, y_test\n",
        "\n",
        "def correlation_heatmap(df):\n",
        "    _ , ax = plt.subplots(figsize =(14, 12))\n",
        "    colormap = sns.diverging_palette(220, 10, as_cmap = True)\n",
        "    _ = sns.heatmap(\n",
        "        df.corr(), \n",
        "        cmap = colormap,\n",
        "        square=True, \n",
        "        cbar_kws={'shrink':.9 }, \n",
        "        ax=ax,\n",
        "        annot=True, \n",
        "        linewidths=0.1,vmax=1.0, linecolor='white',\n",
        "        annot_kws={'fontsize':12 }\n",
        "    )\n",
        "    plt.title('Pearson Correlation of Features', y=1.05, size=15)\n",
        "    \n",
        "def display_proba(model, full=0, fulllabel=0):\n",
        "    x = pd.DataFrame(model.predict_proba(x_test), columns=['Rejection confidence', 'Approval confidence'])\n",
        "    cols = x.columns.tolist()\n",
        "    cols = cols[-1:] + cols[:-1]\n",
        "    x = x[cols]\n",
        "    x['Predicted Decision'] = pd.Series(model.predict(x_test)).map({1:'Approve', 0:'Reject'})\n",
        "    if full==1:\n",
        "        x = x_test.reset_index(drop=True).merge(x.reset_index(drop=True), left_index=True, right_index=True)\n",
        "        x['Actual Decision'] = pd.Series(y_test).reset_index(drop=True).map({1:'Approve', 0:'Reject'})\n",
        "    elif fulllabel==1:\n",
        "        x = test.reset_index(drop=True).drop('PROC_CD_DCSN', axis=1).merge(x.reset_index(drop=True), left_index=True, right_index=True)\n",
        "        x['Actual Decision'] = pd.Series(y_test).reset_index(drop=True).map({1:'Approve', 0:'Reject'})\n",
        "    return x\n",
        "\n",
        "def model_wrapper(model, train, test, traintest=1, scores=1, cv=0, cmatrix=1, roc=0, pr=0, lc=0, fi=1, phead=0):\n",
        "    x_train, x_test, y_train, y_test = train_test_split_me(train, test)\n",
        "    kfold = StratifiedKFold(n_splits=10)\n",
        "    model.fit(x_train, y_train)\n",
        "    if traintest==1:\n",
        "        print('Training score:',model.score(x_train,y_train))\n",
        "        print('Test score:',model.score(x_test, y_test))\n",
        "    if cv==1:\n",
        "        print('Cross-validation score:',np.mean(cross_val_score(model, x_train, y_train, cv=kfold)))\n",
        "    if scores==1:\n",
        "        print_scores(model, x_test, y_test)\n",
        "    if cmatrix==1:\n",
        "        display_confusion_matrix(y_test, model.predict(x_test))\n",
        "    if roc==1:\n",
        "        plot_roc(model, x_test, y_test)\n",
        "    if pr==1:\n",
        "        plot_pr(model, x_train, y_train)\n",
        "    if fi==1:\n",
        "        pd.Series(model.feature_importances_, index=x_train.columns).nlargest(10).plot(kind='barh')  \n",
        "    if lc==1:\n",
        "        plot_learning_curve(model,\"Classifier learning curves\",x_train,y_train,cv=kfold) \n",
        "    if phead==1:\n",
        "        display_proba(model).head()"
      ],
      "execution_count": 0,
      "outputs": []
    },
    {
      "cell_type": "code",
      "metadata": {
        "id": "eD4YBTyNRB6M",
        "colab_type": "code",
        "outputId": "4653e4ec-ade5-4394-91c1-acccf3b3b765",
        "colab": {}
      },
      "source": [
        "# Logistic Regression\n",
        "lr = LogisticRegression()\n",
        "model_wrapper(lr, train_target_ohe, test_target_ohe, traintest=1, scores=1, cv=1, cmatrix=0, roc=0, pr=0, lc=0, fi=0, phead=0)\n",
        "print('-'*10)\n",
        "\n",
        "# Decision Tree\n",
        "dt = DecisionTreeClassifier()\n",
        "model_wrapper(dt, train_target_ohe, test_target_ohe, traintest=1, scores=1, cv=1, cmatrix=0, roc=0, pr=0, lc=0, fi=0, phead=0)\n",
        "print('-'*10)\n",
        "\n",
        "# Random forest\n",
        "rf = RandomForestClassifier(n_estimators=20)\n",
        "model_wrapper(rf, train_target_ohe, test_target_ohe, traintest=1, scores=1, cv=0, cmatrix=0, roc=0, pr=0, lc=0, fi=0, phead=0)\n",
        "print('-'*10)\n",
        "\n",
        "#XG Boost\n",
        "xgb = XGBClassifier(n_estimators=100, max_depth=8, learning_rate=0.1, subsample=0.5)\n",
        "model_wrapper(xgb, train_target_ohe, test_target_ohe, traintest=1, scores=1, cv=0, cmatrix=0, roc=0, pr=0, lc=0, fi=0, phead=0)\n",
        "print('-'*10)"
      ],
      "execution_count": 0,
      "outputs": [
        {
          "output_type": "stream",
          "text": [
            "Training score: 0.8887096774193548\n",
            "Test score: 0.8644859813084113\n",
            "Cross-validation score: 0.8854661036728866\n",
            "Accuracy: 0.8644859813084113\n",
            "Precision: 0.877104377104377\n",
            "Recall: 0.9738317757009346\n",
            "F1-score: 0.9229406554472984\n",
            "----------\n",
            "Training score: 1.0\n",
            "Test score: 0.7694704049844237\n",
            "Cross-validation score: 0.8435382839966369\n",
            "Accuracy: 0.7694704049844237\n",
            "Precision: 0.8685714285714285\n",
            "Recall: 0.8523364485981308\n",
            "F1-score: 0.860377358490566\n",
            "----------\n",
            "Training score: 0.9983870967741936\n",
            "Test score: 0.8489096573208723\n",
            "Accuracy: 0.8489096573208723\n",
            "Precision: 0.8815331010452961\n",
            "Recall: 0.9457943925233645\n",
            "F1-score: 0.9125338142470695\n",
            "----------\n",
            "Training score: 0.9766129032258064\n",
            "Test score: 0.8286604361370716\n",
            "Accuracy: 0.8286604361370716\n",
            "Precision: 0.8708551483420593\n",
            "Recall: 0.9327102803738317\n",
            "F1-score: 0.9007220216606499\n",
            "----------\n"
          ],
          "name": "stdout"
        }
      ]
    },
    {
      "cell_type": "markdown",
      "metadata": {
        "id": "bSoLeullRB6P",
        "colab_type": "text"
      },
      "source": [
        "![title](img/biasvariance.png)\n",
        "\n",
        "- If a model is balanced, both errors converge to small values as the training sample size increases.\n",
        "- If a model has high bias, it ends up underfitting the data. As a result, both errors fail to decrease no matter how many examples there are in the training set.\n",
        "- If a model has high variance, it ends up overfitting the training data. In that case, increasing the training sample size decreases the training error but it fails to decrease the validation error."
      ]
    },
    {
      "cell_type": "code",
      "metadata": {
        "id": "C67W-Z3CRB6P",
        "colab_type": "code",
        "colab": {}
      },
      "source": [
        "x_train, x_test, y_train, y_test = train_test_split_me(train_target_all, test_target_all)"
      ],
      "execution_count": 0,
      "outputs": []
    },
    {
      "cell_type": "code",
      "metadata": {
        "id": "QKGgnP-MRB6T",
        "colab_type": "code",
        "colab": {}
      },
      "source": [
        "##C:\\Users\\AG17578\\AppData\\Local\\conda\\conda\\envs\\env1\\Library\\bin\\graphviz\n",
        "#os.environ[\"PATH\"] += os.pathsep + 'C:/Users/AG17578/AppData/Local/conda/conda/envs/env1/Library/bin/graphviz'\n",
        "\n",
        "#import pydotplus\n",
        "#tree_graph = tree.export_graphviz(tree_model, out_file=None, feature_names=x_test.columns.tolist(),\n",
        "#                                  max_depth = 10, impurity = False, class_names = ['Reject', 'Approved'],\n",
        "#                                  rounded = True, filled= True, proportion = False, precision = 2)\n",
        "\n",
        "#graph = pydotplus.graph_from_dot_data(tree_graph)\n",
        "#graph.write_png('treex.png')\n",
        "\n",
        "#display(graphviz.Source(tree_graph))"
      ],
      "execution_count": 0,
      "outputs": []
    },
    {
      "cell_type": "code",
      "metadata": {
        "id": "LadSwzDORB6Y",
        "colab_type": "code",
        "outputId": "90300fff-21f3-49f5-e6cf-a3d8d14a0693",
        "colab": {}
      },
      "source": [
        "# Random forest\n",
        "rf = RandomForestClassifier(n_estimators=20)\n",
        "model_wrapper(rf, train_target_all, test_target_all, traintest=1, scores=1, cmatrix=0, fi=0)"
      ],
      "execution_count": 0,
      "outputs": [
        {
          "output_type": "stream",
          "text": [
            "Training score: 0.9991935483870967\n",
            "Test score: 0.8442367601246106\n",
            "Accuracy: 0.8442367601246106\n",
            "Precision: 0.8756476683937824\n",
            "Recall: 0.9476635514018692\n",
            "F1-score: 0.910233393177738\n"
          ],
          "name": "stdout"
        }
      ]
    },
    {
      "cell_type": "code",
      "metadata": {
        "id": "Fx_bBqpyRB6b",
        "colab_type": "code",
        "outputId": "5a1cafdd-f0f1-45ea-c457-5cfd303d01a8",
        "colab": {}
      },
      "source": [
        "plt.figure(figsize=(6,6))\n",
        "pd.Series(rf.feature_importances_, index=x_train.columns).sort_values().plot(kind='barh')\n",
        "#plt.savefig('fi.png', bbox_inches='tight')"
      ],
      "execution_count": 0,
      "outputs": [
        {
          "output_type": "execute_result",
          "data": {
            "text/plain": [
              "<matplotlib.axes._subplots.AxesSubplot at 0x10cc2f28>"
            ]
          },
          "metadata": {
            "tags": []
          },
          "execution_count": 33
        },
        {
          "output_type": "display_data",
          "data": {
            "image/png": "[encoded data removed]",
            "text/plain": [
              "<Figure size 432x432 with 1 Axes>"
            ]
          },
          "metadata": {
            "tags": [],
            "needs_background": "light"
          }
        }
      ]
    },
    {
      "cell_type": "code",
      "metadata": {
        "id": "mVkkG-A6RB6d",
        "colab_type": "code",
        "outputId": "6d55a1ac-67a9-4790-856f-361d1425cec7",
        "colab": {}
      },
      "source": [
        "%%time\n",
        "RFC = RandomForestClassifier()\n",
        "kfold = StratifiedKFold(n_splits=10)\n",
        "x_train, x_test, y_train, y_test = train_test_split_me(train_target_all, test_target_all)\n",
        "\n",
        "rf_param_grid = {\"max_depth\": [3, 5, 10],\n",
        "                  \"max_features\": [3, 5, 10],\n",
        "                  \"min_samples_split\": [2, 3, 10],\n",
        "                  \"bootstrap\": [True],\n",
        "                  \"n_estimators\" :[50, 100, 300, 500],\n",
        "                  \"oob_score\" :[True]}\n",
        "\n",
        "refit_score='accuracy_score'\n",
        "\n",
        "rsRFC = GridSearchCV(RFC, rf_param_grid, cv=kfold, scoring=\"accuracy\", n_jobs= -1, verbose=1)\n",
        "rsRFC.fit(x_train,y_train)\n",
        "print_scores(rsRFC, x_test, y_test)"
      ],
      "execution_count": 0,
      "outputs": [
        {
          "output_type": "stream",
          "text": [
            "Fitting 10 folds for each of 108 candidates, totalling 1080 fits\n"
          ],
          "name": "stdout"
        },
        {
          "output_type": "stream",
          "text": [
            "[Parallel(n_jobs=-1)]: Using backend LokyBackend with 2 concurrent workers.\n",
            "[Parallel(n_jobs=-1)]: Done  46 tasks      | elapsed:   16.6s\n",
            "[Parallel(n_jobs=-1)]: Done 196 tasks      | elapsed:  1.0min\n",
            "[Parallel(n_jobs=-1)]: Done 446 tasks      | elapsed:  2.4min\n",
            "[Parallel(n_jobs=-1)]: Done 796 tasks      | elapsed:  4.8min\n",
            "[Parallel(n_jobs=-1)]: Done 1080 out of 1080 | elapsed:  7.6min finished\n"
          ],
          "name": "stderr"
        },
        {
          "output_type": "stream",
          "text": [
            "Accuracy: 0.8629283489096573\n",
            "Precision: 0.8718801996672213\n",
            "Recall: 0.9794392523364486\n",
            "F1-score: 0.9225352112676057\n",
            "Wall time: 7min 33s\n"
          ],
          "name": "stdout"
        }
      ]
    },
    {
      "cell_type": "code",
      "metadata": {
        "id": "_1b4WoEqRB6h",
        "colab_type": "code",
        "colab": {}
      },
      "source": [
        "# # '''model pickling for server'''\n",
        "# x_train, x_test, y_train, y_test = train_test_split_me(train_target_all, test_target_all)\n",
        "# rf = RandomForestClassifier(n_estimators=20)\n",
        "# rf.fit(x_train, y_train)\n",
        "\n",
        "# from sklearn.externals import joblib\n",
        "# joblib.dump(rf, 'rf.joblib')\n",
        "\n",
        "# # df.iloc[0:1].to_json(orient='records')"
      ],
      "execution_count": 0,
      "outputs": []
    },
    {
      "cell_type": "code",
      "metadata": {
        "id": "C32sGIKMRB6j",
        "colab_type": "code",
        "colab": {}
      },
      "source": [
        "def ml_predict(df):\n",
        "    loaded_model = joblib.load('rf.joblib')\n",
        "    predictions = loaded_model.predict(df)\n",
        "    print(predictions)\n",
        "    if predictions==0:\n",
        "        prediction_prob = loaded_model.predict_proba(df)[:,1]\n",
        "    elif predictions==1:\n",
        "        prediction_prob = loaded_model.predict_proba(df)[:,0]\n",
        "    mydict = {0: 'DENIED', 1: 'APPROVED'}\n",
        "    predictions_mapped = [mydict.get(n, n) for n in predictions]\n",
        "    return predictions_mapped,prediction_prob"
      ],
      "execution_count": 0,
      "outputs": []
    },
    {
      "cell_type": "code",
      "metadata": {
        "id": "PLEIybnIRB6l",
        "colab_type": "code",
        "outputId": "9a7da4ef-0827-4409-f82e-fe10e5803e64",
        "colab": {}
      },
      "source": [
        "# Random forest\n",
        "rf = RandomForestClassifier(n_estimators=20)\n",
        "model_wrapper(rf, train_target_ohe, test_target_ohe, traintest=1, scores=1, cv=1, cmatrix=1, roc=1, pr=1, lc=1, fi=1, phead=1)"
      ],
      "execution_count": 0,
      "outputs": [
        {
          "output_type": "stream",
          "text": [
            "Training score: 0.9979838709677419\n",
            "Test score: 0.839563862928349\n",
            "Cross-validation score: 0.8769999024437833\n",
            "Accuracy: 0.839563862928349\n",
            "Precision: 0.8686006825938567\n",
            "Recall: 0.9514018691588785\n",
            "F1-score: 0.9081177520071364\n",
            "RandomForestClassifier accuracy is 0.840\n",
            "RandomForestClassifier log_loss is 0.880\n",
            "RandomForestClassifier auc is 0.731\n"
          ],
          "name": "stdout"
        },
        {
          "output_type": "display_data",
          "data": {
            "image/png": "[encoded data removed]",
            "text/plain": [
              "<Figure size 360x360 with 2 Axes>"
            ]
          },
          "metadata": {
            "tags": [],
            "needs_background": "light"
          }
        },
        {
          "output_type": "display_data",
          "data": {
            "image/png": "[encoded data removed]",
            "text/plain": [
              "<Figure size 432x288 with 1 Axes>"
            ]
          },
          "metadata": {
            "tags": [],
            "needs_background": "light"
          }
        },
        {
          "output_type": "display_data",
          "data": {
            "image/png": "[encoded data removed]",
            "text/plain": [
              "<Figure size 432x288 with 1 Axes>"
            ]
          },
          "metadata": {
            "tags": [],
            "needs_background": "light"
          }
        },
        {
          "output_type": "error",
          "ename": "ValueError",
          "evalue": "Number of features of the model must match the input. Model n_features is 69 and input n_features is 18 ",
          "traceback": [
            "\u001b[1;31m---------------------------------------------------------------------------\u001b[0m",
            "\u001b[1;31mValueError\u001b[0m                                Traceback (most recent call last)",
            "\u001b[1;32m<ipython-input-37-5beb15b954e1>\u001b[0m in \u001b[0;36m<module>\u001b[1;34m\u001b[0m\n\u001b[0;32m      1\u001b[0m \u001b[1;31m# Random forest\u001b[0m\u001b[1;33m\u001b[0m\u001b[1;33m\u001b[0m\u001b[1;33m\u001b[0m\u001b[0m\n\u001b[0;32m      2\u001b[0m \u001b[0mrf\u001b[0m \u001b[1;33m=\u001b[0m \u001b[0mRandomForestClassifier\u001b[0m\u001b[1;33m(\u001b[0m\u001b[0mn_estimators\u001b[0m\u001b[1;33m=\u001b[0m\u001b[1;36m20\u001b[0m\u001b[1;33m)\u001b[0m\u001b[1;33m\u001b[0m\u001b[1;33m\u001b[0m\u001b[0m\n\u001b[1;32m----> 3\u001b[1;33m \u001b[0mmodel_wrapper\u001b[0m\u001b[1;33m(\u001b[0m\u001b[0mrf\u001b[0m\u001b[1;33m,\u001b[0m \u001b[0mtrain_target_ohe\u001b[0m\u001b[1;33m,\u001b[0m \u001b[0mtest_target_ohe\u001b[0m\u001b[1;33m,\u001b[0m \u001b[0mtraintest\u001b[0m\u001b[1;33m=\u001b[0m\u001b[1;36m1\u001b[0m\u001b[1;33m,\u001b[0m \u001b[0mscores\u001b[0m\u001b[1;33m=\u001b[0m\u001b[1;36m1\u001b[0m\u001b[1;33m,\u001b[0m \u001b[0mcv\u001b[0m\u001b[1;33m=\u001b[0m\u001b[1;36m1\u001b[0m\u001b[1;33m,\u001b[0m \u001b[0mcmatrix\u001b[0m\u001b[1;33m=\u001b[0m\u001b[1;36m1\u001b[0m\u001b[1;33m,\u001b[0m \u001b[0mroc\u001b[0m\u001b[1;33m=\u001b[0m\u001b[1;36m1\u001b[0m\u001b[1;33m,\u001b[0m \u001b[0mpr\u001b[0m\u001b[1;33m=\u001b[0m\u001b[1;36m1\u001b[0m\u001b[1;33m,\u001b[0m \u001b[0mlc\u001b[0m\u001b[1;33m=\u001b[0m\u001b[1;36m1\u001b[0m\u001b[1;33m,\u001b[0m \u001b[0mfi\u001b[0m\u001b[1;33m=\u001b[0m\u001b[1;36m1\u001b[0m\u001b[1;33m,\u001b[0m \u001b[0mphead\u001b[0m\u001b[1;33m=\u001b[0m\u001b[1;36m1\u001b[0m\u001b[1;33m)\u001b[0m\u001b[1;33m\u001b[0m\u001b[1;33m\u001b[0m\u001b[0m\n\u001b[0m",
            "\u001b[1;32m<ipython-input-28-80849446aac2>\u001b[0m in \u001b[0;36mmodel_wrapper\u001b[1;34m(model, train, test, traintest, scores, cv, cmatrix, roc, pr, lc, fi, phead)\u001b[0m\n\u001b[0;32m    163\u001b[0m         \u001b[0mplot_learning_curve\u001b[0m\u001b[1;33m(\u001b[0m\u001b[0mmodel\u001b[0m\u001b[1;33m,\u001b[0m\u001b[1;34m\"Classifier learning curves\"\u001b[0m\u001b[1;33m,\u001b[0m\u001b[0mx_train\u001b[0m\u001b[1;33m,\u001b[0m\u001b[0my_train\u001b[0m\u001b[1;33m,\u001b[0m\u001b[0mcv\u001b[0m\u001b[1;33m=\u001b[0m\u001b[0mkfold\u001b[0m\u001b[1;33m)\u001b[0m\u001b[1;33m\u001b[0m\u001b[1;33m\u001b[0m\u001b[0m\n\u001b[0;32m    164\u001b[0m     \u001b[1;32mif\u001b[0m \u001b[0mphead\u001b[0m\u001b[1;33m==\u001b[0m\u001b[1;36m1\u001b[0m\u001b[1;33m:\u001b[0m\u001b[1;33m\u001b[0m\u001b[1;33m\u001b[0m\u001b[0m\n\u001b[1;32m--> 165\u001b[1;33m         \u001b[0mdisplay_proba\u001b[0m\u001b[1;33m(\u001b[0m\u001b[0mmodel\u001b[0m\u001b[1;33m)\u001b[0m\u001b[1;33m.\u001b[0m\u001b[0mhead\u001b[0m\u001b[1;33m(\u001b[0m\u001b[1;33m)\u001b[0m\u001b[1;33m\u001b[0m\u001b[1;33m\u001b[0m\u001b[0m\n\u001b[0m",
            "\u001b[1;32m<ipython-input-28-80849446aac2>\u001b[0m in \u001b[0;36mdisplay_proba\u001b[1;34m(model, full, fulllabel)\u001b[0m\n\u001b[0;32m    128\u001b[0m \u001b[1;33m\u001b[0m\u001b[0m\n\u001b[0;32m    129\u001b[0m \u001b[1;32mdef\u001b[0m \u001b[0mdisplay_proba\u001b[0m\u001b[1;33m(\u001b[0m\u001b[0mmodel\u001b[0m\u001b[1;33m,\u001b[0m \u001b[0mfull\u001b[0m\u001b[1;33m=\u001b[0m\u001b[1;36m0\u001b[0m\u001b[1;33m,\u001b[0m \u001b[0mfulllabel\u001b[0m\u001b[1;33m=\u001b[0m\u001b[1;36m0\u001b[0m\u001b[1;33m)\u001b[0m\u001b[1;33m:\u001b[0m\u001b[1;33m\u001b[0m\u001b[1;33m\u001b[0m\u001b[0m\n\u001b[1;32m--> 130\u001b[1;33m     \u001b[0mx\u001b[0m \u001b[1;33m=\u001b[0m \u001b[0mpd\u001b[0m\u001b[1;33m.\u001b[0m\u001b[0mDataFrame\u001b[0m\u001b[1;33m(\u001b[0m\u001b[0mmodel\u001b[0m\u001b[1;33m.\u001b[0m\u001b[0mpredict_proba\u001b[0m\u001b[1;33m(\u001b[0m\u001b[0mx_test\u001b[0m\u001b[1;33m)\u001b[0m\u001b[1;33m,\u001b[0m \u001b[0mcolumns\u001b[0m\u001b[1;33m=\u001b[0m\u001b[1;33m[\u001b[0m\u001b[1;34m'Rejection confidence'\u001b[0m\u001b[1;33m,\u001b[0m \u001b[1;34m'Approval confidence'\u001b[0m\u001b[1;33m]\u001b[0m\u001b[1;33m)\u001b[0m\u001b[1;33m\u001b[0m\u001b[1;33m\u001b[0m\u001b[0m\n\u001b[0m\u001b[0;32m    131\u001b[0m     \u001b[0mcols\u001b[0m \u001b[1;33m=\u001b[0m \u001b[0mx\u001b[0m\u001b[1;33m.\u001b[0m\u001b[0mcolumns\u001b[0m\u001b[1;33m.\u001b[0m\u001b[0mtolist\u001b[0m\u001b[1;33m(\u001b[0m\u001b[1;33m)\u001b[0m\u001b[1;33m\u001b[0m\u001b[1;33m\u001b[0m\u001b[0m\n\u001b[0;32m    132\u001b[0m     \u001b[0mcols\u001b[0m \u001b[1;33m=\u001b[0m \u001b[0mcols\u001b[0m\u001b[1;33m[\u001b[0m\u001b[1;33m-\u001b[0m\u001b[1;36m1\u001b[0m\u001b[1;33m:\u001b[0m\u001b[1;33m]\u001b[0m \u001b[1;33m+\u001b[0m \u001b[0mcols\u001b[0m\u001b[1;33m[\u001b[0m\u001b[1;33m:\u001b[0m\u001b[1;33m-\u001b[0m\u001b[1;36m1\u001b[0m\u001b[1;33m]\u001b[0m\u001b[1;33m\u001b[0m\u001b[1;33m\u001b[0m\u001b[0m\n",
            "\u001b[1;32m~\\AppData\\Local\\conda\\conda\\envs\\env1\\lib\\site-packages\\sklearn\\ensemble\\forest.py\u001b[0m in \u001b[0;36mpredict_proba\u001b[1;34m(self, X)\u001b[0m\n\u001b[0;32m    581\u001b[0m         \u001b[0mcheck_is_fitted\u001b[0m\u001b[1;33m(\u001b[0m\u001b[0mself\u001b[0m\u001b[1;33m,\u001b[0m \u001b[1;34m'estimators_'\u001b[0m\u001b[1;33m)\u001b[0m\u001b[1;33m\u001b[0m\u001b[1;33m\u001b[0m\u001b[0m\n\u001b[0;32m    582\u001b[0m         \u001b[1;31m# Check data\u001b[0m\u001b[1;33m\u001b[0m\u001b[1;33m\u001b[0m\u001b[1;33m\u001b[0m\u001b[0m\n\u001b[1;32m--> 583\u001b[1;33m         \u001b[0mX\u001b[0m \u001b[1;33m=\u001b[0m \u001b[0mself\u001b[0m\u001b[1;33m.\u001b[0m\u001b[0m_validate_X_predict\u001b[0m\u001b[1;33m(\u001b[0m\u001b[0mX\u001b[0m\u001b[1;33m)\u001b[0m\u001b[1;33m\u001b[0m\u001b[1;33m\u001b[0m\u001b[0m\n\u001b[0m\u001b[0;32m    584\u001b[0m \u001b[1;33m\u001b[0m\u001b[0m\n\u001b[0;32m    585\u001b[0m         \u001b[1;31m# Assign chunk of trees to jobs\u001b[0m\u001b[1;33m\u001b[0m\u001b[1;33m\u001b[0m\u001b[1;33m\u001b[0m\u001b[0m\n",
            "\u001b[1;32m~\\AppData\\Local\\conda\\conda\\envs\\env1\\lib\\site-packages\\sklearn\\ensemble\\forest.py\u001b[0m in \u001b[0;36m_validate_X_predict\u001b[1;34m(self, X)\u001b[0m\n\u001b[0;32m    360\u001b[0m                                  \"call `fit` before exploiting the model.\")\n\u001b[0;32m    361\u001b[0m \u001b[1;33m\u001b[0m\u001b[0m\n\u001b[1;32m--> 362\u001b[1;33m         \u001b[1;32mreturn\u001b[0m \u001b[0mself\u001b[0m\u001b[1;33m.\u001b[0m\u001b[0mestimators_\u001b[0m\u001b[1;33m[\u001b[0m\u001b[1;36m0\u001b[0m\u001b[1;33m]\u001b[0m\u001b[1;33m.\u001b[0m\u001b[0m_validate_X_predict\u001b[0m\u001b[1;33m(\u001b[0m\u001b[0mX\u001b[0m\u001b[1;33m,\u001b[0m \u001b[0mcheck_input\u001b[0m\u001b[1;33m=\u001b[0m\u001b[1;32mTrue\u001b[0m\u001b[1;33m)\u001b[0m\u001b[1;33m\u001b[0m\u001b[1;33m\u001b[0m\u001b[0m\n\u001b[0m\u001b[0;32m    363\u001b[0m \u001b[1;33m\u001b[0m\u001b[0m\n\u001b[0;32m    364\u001b[0m     \u001b[1;33m@\u001b[0m\u001b[0mproperty\u001b[0m\u001b[1;33m\u001b[0m\u001b[1;33m\u001b[0m\u001b[0m\n",
            "\u001b[1;32m~\\AppData\\Local\\conda\\conda\\envs\\env1\\lib\\site-packages\\sklearn\\tree\\tree.py\u001b[0m in \u001b[0;36m_validate_X_predict\u001b[1;34m(self, X, check_input)\u001b[0m\n\u001b[0;32m    386\u001b[0m                              \u001b[1;34m\"match the input. Model n_features is %s and \"\u001b[0m\u001b[1;33m\u001b[0m\u001b[1;33m\u001b[0m\u001b[0m\n\u001b[0;32m    387\u001b[0m                              \u001b[1;34m\"input n_features is %s \"\u001b[0m\u001b[1;33m\u001b[0m\u001b[1;33m\u001b[0m\u001b[0m\n\u001b[1;32m--> 388\u001b[1;33m                              % (self.n_features_, n_features))\n\u001b[0m\u001b[0;32m    389\u001b[0m \u001b[1;33m\u001b[0m\u001b[0m\n\u001b[0;32m    390\u001b[0m         \u001b[1;32mreturn\u001b[0m \u001b[0mX\u001b[0m\u001b[1;33m\u001b[0m\u001b[1;33m\u001b[0m\u001b[0m\n",
            "\u001b[1;31mValueError\u001b[0m: Number of features of the model must match the input. Model n_features is 69 and input n_features is 18 "
          ]
        },
        {
          "output_type": "display_data",
          "data": {
            "image/png": "[encoded data removed]",
            "text/plain": [
              "<Figure size 432x288 with 1 Axes>"
            ]
          },
          "metadata": {
            "tags": [],
            "needs_background": "light"
          }
        },
        {
          "output_type": "display_data",
          "data": {
            "image/png": "[encoded data removed]",
            "text/plain": [
              "<Figure size 432x288 with 1 Axes>"
            ]
          },
          "metadata": {
            "tags": [],
            "needs_background": "light"
          }
        }
      ]
    },
    {
      "cell_type": "markdown",
      "metadata": {
        "id": "rr2pqimeRB6o",
        "colab_type": "text"
      },
      "source": [
        "## Feature Selection and Retraining\n",
        "- SelectFromModel\n",
        "- SelectKBest with Chi2 metric\n",
        "- Recursive Feature Elimination with cross-validation\n",
        "- Information Value (weight of evidence derived)\n",
        "- eli5 Permutation Importance"
      ]
    },
    {
      "cell_type": "code",
      "metadata": {
        "id": "DcMxY7UgRB6o",
        "colab_type": "code",
        "colab": {}
      },
      "source": [
        "x_train, x_test, y_train, y_test = train_test_split_me(train_target_all, test_target_all)"
      ],
      "execution_count": 0,
      "outputs": []
    },
    {
      "cell_type": "code",
      "metadata": {
        "id": "m2M5yABIRB6r",
        "colab_type": "code",
        "outputId": "f0480459-9647-4d22-a9ab-095557afc559",
        "colab": {}
      },
      "source": [
        "rf = RandomForestClassifier(n_estimators=20)\n",
        "rf.fit(x_train, y_train)\n",
        "\n",
        "sfm = SelectFromModel(rf, threshold=0.05)\n",
        "sfm.fit(x_train, y_train)\n",
        "\n",
        "sfm_support = sfm.get_support()\n",
        "sfm_feature = x_train.loc[:,sfm_support].columns.tolist()\n",
        "print(str(len(sfm_feature)), 'selected features')\n",
        "sfm_feature"
      ],
      "execution_count": 0,
      "outputs": [
        {
          "output_type": "stream",
          "text": [
            "6 selected features\n"
          ],
          "name": "stdout"
        },
        {
          "output_type": "execute_result",
          "data": {
            "text/plain": [
              "['RCPT_MTHD_TXT', 'ST', 'MBR_PLN_ST_CD', 'PROC_CD', 'DIAG_CD', 'patient_age']"
            ]
          },
          "metadata": {
            "tags": []
          },
          "execution_count": 65
        }
      ]
    },
    {
      "cell_type": "code",
      "metadata": {
        "id": "RZH2iiyVRB6u",
        "colab_type": "code",
        "outputId": "28bf1b6c-e4f1-475a-80a6-93d53aa6fee9",
        "colab": {}
      },
      "source": [
        "chi_selector = SelectKBest(chi2, k=10)\n",
        "chi_selector.fit(x_train, y_train)\n",
        "\n",
        "chi_support = chi_selector.get_support()\n",
        "chi_feature = x_train.loc[:,chi_support].columns.tolist()\n",
        "print(str(len(chi_feature)), 'selected features')\n",
        "chi_feature"
      ],
      "execution_count": 0,
      "outputs": [
        {
          "output_type": "stream",
          "text": [
            "10 selected features\n"
          ],
          "name": "stdout"
        },
        {
          "output_type": "execute_result",
          "data": {
            "text/plain": [
              "['RCPT_MTHD_TXT',\n",
              " 'GNDR',\n",
              " 'MBR_PLN_ST_CD',\n",
              " 'MBR_LOB_NM',\n",
              " 'PROC_CD',\n",
              " 'PRMRY_IND',\n",
              " 'SRCV_QTY',\n",
              " 'TOS_NM',\n",
              " 'DIAG_CD',\n",
              " 'patient_age']"
            ]
          },
          "metadata": {
            "tags": []
          },
          "execution_count": 66
        }
      ]
    },
    {
      "cell_type": "code",
      "metadata": {
        "id": "cq4rOajKRB6x",
        "colab_type": "code",
        "outputId": "8696801a-6209-473e-abf5-e6b1b8ad2481",
        "colab": {}
      },
      "source": [
        "rfe = RFE(rf, 10)\n",
        "rfe = rfe.fit(x_train, y_train)\n",
        "rfe_support = rfe.get_support()\n",
        "rfe_feature = x_train.loc[:,rfe_support].columns.tolist()\n",
        "print(str(len(rfe_feature)), 'selected features')\n",
        "rfe_feature"
      ],
      "execution_count": 0,
      "outputs": [
        {
          "output_type": "stream",
          "text": [
            "10 selected features\n"
          ],
          "name": "stdout"
        },
        {
          "output_type": "execute_result",
          "data": {
            "text/plain": [
              "['PLACE_OF_SRVC_NM',\n",
              " 'RCPT_MTHD_TXT',\n",
              " 'ST',\n",
              " 'MBR_PLN_ST_CD',\n",
              " 'PROD_FMLY_CD',\n",
              " 'PROC_CD',\n",
              " 'SRCV_QTY',\n",
              " 'TOS_NM',\n",
              " 'DIAG_CD',\n",
              " 'patient_age']"
            ]
          },
          "metadata": {
            "tags": []
          },
          "execution_count": 67
        }
      ]
    },
    {
      "cell_type": "code",
      "metadata": {
        "id": "j2SB7w46RB61",
        "colab_type": "code",
        "colab": {}
      },
      "source": [
        "## IV of features\n",
        "def iv_woe(X, Y, ivonly=0):\n",
        "    df1 = pd.DataFrame({\"X\": X, \"Y\": Y})\n",
        "    df2 = df1.groupby('X',as_index=True)\n",
        "\n",
        "    d3 = pd.DataFrame({},index=[])\n",
        "    d3[\"COUNT\"] = df2.count().Y\n",
        "    d3[\"MIN_VALUE\"] = df2.sum().Y.index\n",
        "    d3[\"MAX_VALUE\"] = d3[\"MIN_VALUE\"]\n",
        "    d3[\"EVENT\"] = df2.sum().Y\n",
        "    d3[\"NONEVENT\"] = df2.count().Y - df2.sum().Y\n",
        "    d3[\"EVENT_RATE\"] = d3.EVENT/d3.COUNT\n",
        "    d3[\"NON_EVENT_RATE\"] = d3.NONEVENT/d3.COUNT\n",
        "    d3[\"DIST_EVENT\"] = d3.EVENT/d3.sum().EVENT\n",
        "    d3[\"DIST_NON_EVENT\"] = d3.NONEVENT/d3.sum().NONEVENT\n",
        "    d3[\"WOE\"] = np.log(d3.DIST_EVENT/d3.DIST_NON_EVENT)\n",
        "    d3[\"IV\"] = (d3.DIST_EVENT-d3.DIST_NON_EVENT)*np.log(d3.DIST_EVENT/d3.DIST_NON_EVENT)\n",
        "    d3[\"VAR_NAME\"] = \"VAR\"\n",
        "    d3 = d3[['VAR_NAME','MIN_VALUE', 'MAX_VALUE', 'COUNT', 'EVENT', 'EVENT_RATE', 'NONEVENT', 'NON_EVENT_RATE', 'DIST_EVENT','DIST_NON_EVENT','WOE', 'IV']]\n",
        "    d3 = d3.replace([np.inf, -np.inf], 0)\n",
        "    d3.IV = d3.IV.sum()\n",
        "    d3 = d3.reset_index(drop=True)\n",
        "    if ivonly==1:\n",
        "        return (d3['IV'][0])\n",
        "    else:\n",
        "        return d3"
      ],
      "execution_count": 0,
      "outputs": []
    },
    {
      "cell_type": "code",
      "metadata": {
        "id": "p7ot8LVXRB63",
        "colab_type": "code",
        "colab": {}
      },
      "source": [
        "iv_values = []\n",
        "for col in x_train.columns:\n",
        "    iv_values.append(iv_woe(x_train[col], y_train, ivonly = 1))"
      ],
      "execution_count": 0,
      "outputs": []
    },
    {
      "cell_type": "code",
      "metadata": {
        "id": "Spn9ICEDRB65",
        "colab_type": "code",
        "outputId": "33ee45bf-6308-4820-daa0-0e44c41b5ebb",
        "colab": {}
      },
      "source": [
        "import eli5\n",
        "from eli5.sklearn import PermutationImportance\n",
        "\n",
        "perm = PermutationImportance(rf, random_state=1).fit(x_test, y_test)\n",
        "eli5.show_weights(perm, feature_names = x_test.columns.tolist(),top=20)"
      ],
      "execution_count": 0,
      "outputs": [
        {
          "output_type": "execute_result",
          "data": {
            "text/html": [
              "\n",
              "    <style>\n",
              "    table.eli5-weights tr:hover {\n",
              "        filter: brightness(85%);\n",
              "    }\n",
              "</style>\n",
              "\n",
              "\n",
              "\n",
              "    \n",
              "\n",
              "    \n",
              "\n",
              "    \n",
              "\n",
              "    \n",
              "\n",
              "    \n",
              "\n",
              "    \n",
              "\n",
              "\n",
              "    \n",
              "\n",
              "    \n",
              "\n",
              "    \n",
              "\n",
              "    \n",
              "\n",
              "    \n",
              "\n",
              "    \n",
              "\n",
              "\n",
              "    \n",
              "\n",
              "    \n",
              "\n",
              "    \n",
              "\n",
              "    \n",
              "\n",
              "    \n",
              "        <table class=\"eli5-weights eli5-feature-importances\" style=\"border-collapse: collapse; border: none; margin-top: 0em; table-layout: auto;\">\n",
              "    <thead>\n",
              "    <tr style=\"border: none;\">\n",
              "        <th style=\"padding: 0 1em 0 0.5em; text-align: right; border: none;\">Weight</th>\n",
              "        <th style=\"padding: 0 0.5em 0 0.5em; text-align: left; border: none;\">Feature</th>\n",
              "    </tr>\n",
              "    </thead>\n",
              "    <tbody>\n",
              "    \n",
              "        <tr style=\"background-color: hsl(120, 100.00%, 80.00%); border: none;\">\n",
              "            <td style=\"padding: 0 1em 0 0.5em; text-align: right; border: none;\">\n",
              "                0.0155\n",
              "                \n",
              "                    &plusmn; 0.0175\n",
              "                \n",
              "            </td>\n",
              "            <td style=\"padding: 0 0.5em 0 0.5em; text-align: left; border: none;\">\n",
              "                PROC_CD\n",
              "            </td>\n",
              "        </tr>\n",
              "    \n",
              "        <tr style=\"background-color: hsl(120, 100.00%, 88.95%); border: none;\">\n",
              "            <td style=\"padding: 0 1em 0 0.5em; text-align: right; border: none;\">\n",
              "                0.0066\n",
              "                \n",
              "                    &plusmn; 0.0076\n",
              "                \n",
              "            </td>\n",
              "            <td style=\"padding: 0 0.5em 0 0.5em; text-align: left; border: none;\">\n",
              "                PLACE_OF_SRVC_NM\n",
              "            </td>\n",
              "        </tr>\n",
              "    \n",
              "        <tr style=\"background-color: hsl(120, 100.00%, 88.95%); border: none;\">\n",
              "            <td style=\"padding: 0 1em 0 0.5em; text-align: right; border: none;\">\n",
              "                0.0066\n",
              "                \n",
              "                    &plusmn; 0.0117\n",
              "                \n",
              "            </td>\n",
              "            <td style=\"padding: 0 0.5em 0 0.5em; text-align: left; border: none;\">\n",
              "                DIAG_CD\n",
              "            </td>\n",
              "        </tr>\n",
              "    \n",
              "        <tr style=\"background-color: hsl(120, 100.00%, 91.68%); border: none;\">\n",
              "            <td style=\"padding: 0 1em 0 0.5em; text-align: right; border: none;\">\n",
              "                0.0044\n",
              "                \n",
              "                    &plusmn; 0.0042\n",
              "                \n",
              "            </td>\n",
              "            <td style=\"padding: 0 0.5em 0 0.5em; text-align: left; border: none;\">\n",
              "                RCPT_MTHD_TXT\n",
              "            </td>\n",
              "        </tr>\n",
              "    \n",
              "        <tr style=\"background-color: hsl(120, 100.00%, 92.53%); border: none;\">\n",
              "            <td style=\"padding: 0 1em 0 0.5em; text-align: right; border: none;\">\n",
              "                0.0038\n",
              "                \n",
              "                    &plusmn; 0.0088\n",
              "                \n",
              "            </td>\n",
              "            <td style=\"padding: 0 0.5em 0 0.5em; text-align: left; border: none;\">\n",
              "                TOS_NM\n",
              "            </td>\n",
              "        </tr>\n",
              "    \n",
              "        <tr style=\"background-color: hsl(120, 100.00%, 93.43%); border: none;\">\n",
              "            <td style=\"padding: 0 1em 0 0.5em; text-align: right; border: none;\">\n",
              "                0.0032\n",
              "                \n",
              "                    &plusmn; 0.0108\n",
              "                \n",
              "            </td>\n",
              "            <td style=\"padding: 0 0.5em 0 0.5em; text-align: left; border: none;\">\n",
              "                MBR_PLN_ST_CD\n",
              "            </td>\n",
              "        </tr>\n",
              "    \n",
              "        <tr style=\"background-color: hsl(120, 100.00%, 94.38%); border: none;\">\n",
              "            <td style=\"padding: 0 1em 0 0.5em; text-align: right; border: none;\">\n",
              "                0.0025\n",
              "                \n",
              "                    &plusmn; 0.0059\n",
              "                \n",
              "            </td>\n",
              "            <td style=\"padding: 0 0.5em 0 0.5em; text-align: left; border: none;\">\n",
              "                PRMRY_IND\n",
              "            </td>\n",
              "        </tr>\n",
              "    \n",
              "        <tr style=\"background-color: hsl(120, 100.00%, 95.40%); border: none;\">\n",
              "            <td style=\"padding: 0 1em 0 0.5em; text-align: right; border: none;\">\n",
              "                0.0019\n",
              "                \n",
              "                    &plusmn; 0.0037\n",
              "                \n",
              "            </td>\n",
              "            <td style=\"padding: 0 0.5em 0 0.5em; text-align: left; border: none;\">\n",
              "                MBR_LOB_NM\n",
              "            </td>\n",
              "        </tr>\n",
              "    \n",
              "        <tr style=\"background-color: hsl(120, 100.00%, 96.54%); border: none;\">\n",
              "            <td style=\"padding: 0 1em 0 0.5em; text-align: right; border: none;\">\n",
              "                0.0013\n",
              "                \n",
              "                    &plusmn; 0.0042\n",
              "                \n",
              "            </td>\n",
              "            <td style=\"padding: 0 0.5em 0 0.5em; text-align: left; border: none;\">\n",
              "                RVW_TYPE_TXT\n",
              "            </td>\n",
              "        </tr>\n",
              "    \n",
              "        <tr style=\"background-color: hsl(120, 100.00%, 97.87%); border: none;\">\n",
              "            <td style=\"padding: 0 1em 0 0.5em; text-align: right; border: none;\">\n",
              "                0.0006\n",
              "                \n",
              "                    &plusmn; 0.0047\n",
              "                \n",
              "            </td>\n",
              "            <td style=\"padding: 0 0.5em 0 0.5em; text-align: left; border: none;\">\n",
              "                GNDR\n",
              "            </td>\n",
              "        </tr>\n",
              "    \n",
              "        <tr style=\"background-color: hsl(120, 100.00%, 98.69%); border: none;\">\n",
              "            <td style=\"padding: 0 1em 0 0.5em; text-align: right; border: none;\">\n",
              "                0.0003\n",
              "                \n",
              "                    &plusmn; 0.0037\n",
              "                \n",
              "            </td>\n",
              "            <td style=\"padding: 0 0.5em 0 0.5em; text-align: left; border: none;\">\n",
              "                PROD_FMLY_CD\n",
              "            </td>\n",
              "        </tr>\n",
              "    \n",
              "        <tr style=\"background-color: hsl(0, 100.00%, 97.17%); border: none;\">\n",
              "            <td style=\"padding: 0 1em 0 0.5em; text-align: right; border: none;\">\n",
              "                -0.0009\n",
              "                \n",
              "                    &plusmn; 0.0032\n",
              "                \n",
              "            </td>\n",
              "            <td style=\"padding: 0 0.5em 0 0.5em; text-align: left; border: none;\">\n",
              "                CASE_TYPE_CD\n",
              "            </td>\n",
              "        </tr>\n",
              "    \n",
              "        <tr style=\"background-color: hsl(0, 100.00%, 95.40%); border: none;\">\n",
              "            <td style=\"padding: 0 1em 0 0.5em; text-align: right; border: none;\">\n",
              "                -0.0019\n",
              "                \n",
              "                    &plusmn; 0.0031\n",
              "                \n",
              "            </td>\n",
              "            <td style=\"padding: 0 0.5em 0 0.5em; text-align: left; border: none;\">\n",
              "                PREAUTH_RQST_TYPE_CD\n",
              "            </td>\n",
              "        </tr>\n",
              "    \n",
              "        <tr style=\"background-color: hsl(0, 100.00%, 94.38%); border: none;\">\n",
              "            <td style=\"padding: 0 1em 0 0.5em; text-align: right; border: none;\">\n",
              "                -0.0025\n",
              "                \n",
              "                    &plusmn; 0.0043\n",
              "                \n",
              "            </td>\n",
              "            <td style=\"padding: 0 0.5em 0 0.5em; text-align: left; border: none;\">\n",
              "                SRCV_QTY\n",
              "            </td>\n",
              "        </tr>\n",
              "    \n",
              "        <tr style=\"background-color: hsl(0, 100.00%, 92.97%); border: none;\">\n",
              "            <td style=\"padding: 0 1em 0 0.5em; text-align: right; border: none;\">\n",
              "                -0.0035\n",
              "                \n",
              "                    &plusmn; 0.0031\n",
              "                \n",
              "            </td>\n",
              "            <td style=\"padding: 0 0.5em 0 0.5em; text-align: left; border: none;\">\n",
              "                FUNDG_TYPE_CD\n",
              "            </td>\n",
              "        </tr>\n",
              "    \n",
              "        <tr style=\"background-color: hsl(0, 100.00%, 90.86%); border: none;\">\n",
              "            <td style=\"padding: 0 1em 0 0.5em; text-align: right; border: none;\">\n",
              "                -0.0051\n",
              "                \n",
              "                    &plusmn; 0.0054\n",
              "                \n",
              "            </td>\n",
              "            <td style=\"padding: 0 0.5em 0 0.5em; text-align: left; border: none;\">\n",
              "                patient_age\n",
              "            </td>\n",
              "        </tr>\n",
              "    \n",
              "        <tr style=\"background-color: hsl(0, 100.00%, 89.70%); border: none;\">\n",
              "            <td style=\"padding: 0 1em 0 0.5em; text-align: right; border: none;\">\n",
              "                -0.0060\n",
              "                \n",
              "                    &plusmn; 0.0064\n",
              "                \n",
              "            </td>\n",
              "            <td style=\"padding: 0 0.5em 0 0.5em; text-align: left; border: none;\">\n",
              "                LVL_OF_SRVC_NM\n",
              "            </td>\n",
              "        </tr>\n",
              "    \n",
              "        <tr style=\"background-color: hsl(0, 100.00%, 89.70%); border: none;\">\n",
              "            <td style=\"padding: 0 1em 0 0.5em; text-align: right; border: none;\">\n",
              "                -0.0060\n",
              "                \n",
              "                    &plusmn; 0.0024\n",
              "                \n",
              "            </td>\n",
              "            <td style=\"padding: 0 0.5em 0 0.5em; text-align: left; border: none;\">\n",
              "                ST\n",
              "            </td>\n",
              "        </tr>\n",
              "    \n",
              "    \n",
              "    </tbody>\n",
              "</table>\n",
              "    \n",
              "\n",
              "    \n",
              "\n",
              "\n",
              "    \n",
              "\n",
              "    \n",
              "\n",
              "    \n",
              "\n",
              "    \n",
              "\n",
              "    \n",
              "\n",
              "    \n",
              "\n",
              "\n",
              "\n"
            ],
            "text/plain": [
              "<IPython.core.display.HTML object>"
            ]
          },
          "metadata": {
            "tags": []
          },
          "execution_count": 70
        }
      ]
    },
    {
      "cell_type": "code",
      "metadata": {
        "id": "4zRrRbDCRB68",
        "colab_type": "code",
        "outputId": "0f1b5b55-65dd-4813-f596-4e28419f5d6d",
        "colab": {}
      },
      "source": [
        "# put all selection together\n",
        "feature_selection_df = pd.DataFrame({'Feature':x_train.columns,'RFE':rfe_support,'SFM':sfm_support,'Chi2':chi_support})\n",
        "# count the selected times for each feature\n",
        "feature_selection_df['Total'] = np.sum(feature_selection_df, axis=1)\n",
        "#adding IV\n",
        "feature_selection_df['IV'] = iv_values\n",
        "# display the top 100\n",
        "feature_selection_df = feature_selection_df.sort_values(['Total','Feature'] , ascending=False)\n",
        "feature_selection_df.index = range(1, len(feature_selection_df)+1)\n",
        "feature_selection_df"
      ],
      "execution_count": 0,
      "outputs": [
        {
          "output_type": "execute_result",
          "data": {
            "text/html": [
              "<div>\n",
              "<style scoped>\n",
              "    .dataframe tbody tr th:only-of-type {\n",
              "        vertical-align: middle;\n",
              "    }\n",
              "\n",
              "    .dataframe tbody tr th {\n",
              "        vertical-align: top;\n",
              "    }\n",
              "\n",
              "    .dataframe thead th {\n",
              "        text-align: right;\n",
              "    }\n",
              "</style>\n",
              "<table border=\"1\" class=\"dataframe\">\n",
              "  <thead>\n",
              "    <tr style=\"text-align: right;\">\n",
              "      <th></th>\n",
              "      <th>Feature</th>\n",
              "      <th>RFE</th>\n",
              "      <th>SFM</th>\n",
              "      <th>Chi2</th>\n",
              "      <th>Total</th>\n",
              "      <th>IV</th>\n",
              "    </tr>\n",
              "  </thead>\n",
              "  <tbody>\n",
              "    <tr>\n",
              "      <th>1</th>\n",
              "      <td>patient_age</td>\n",
              "      <td>True</td>\n",
              "      <td>True</td>\n",
              "      <td>True</td>\n",
              "      <td>3</td>\n",
              "      <td>0.175299</td>\n",
              "    </tr>\n",
              "    <tr>\n",
              "      <th>2</th>\n",
              "      <td>RCPT_MTHD_TXT</td>\n",
              "      <td>True</td>\n",
              "      <td>True</td>\n",
              "      <td>True</td>\n",
              "      <td>3</td>\n",
              "      <td>0.937041</td>\n",
              "    </tr>\n",
              "    <tr>\n",
              "      <th>3</th>\n",
              "      <td>PROC_CD</td>\n",
              "      <td>True</td>\n",
              "      <td>True</td>\n",
              "      <td>True</td>\n",
              "      <td>3</td>\n",
              "      <td>0.654629</td>\n",
              "    </tr>\n",
              "    <tr>\n",
              "      <th>4</th>\n",
              "      <td>MBR_PLN_ST_CD</td>\n",
              "      <td>True</td>\n",
              "      <td>True</td>\n",
              "      <td>True</td>\n",
              "      <td>3</td>\n",
              "      <td>0.135474</td>\n",
              "    </tr>\n",
              "    <tr>\n",
              "      <th>5</th>\n",
              "      <td>DIAG_CD</td>\n",
              "      <td>True</td>\n",
              "      <td>True</td>\n",
              "      <td>True</td>\n",
              "      <td>3</td>\n",
              "      <td>0.684631</td>\n",
              "    </tr>\n",
              "    <tr>\n",
              "      <th>6</th>\n",
              "      <td>TOS_NM</td>\n",
              "      <td>True</td>\n",
              "      <td>False</td>\n",
              "      <td>True</td>\n",
              "      <td>2</td>\n",
              "      <td>0.385589</td>\n",
              "    </tr>\n",
              "    <tr>\n",
              "      <th>7</th>\n",
              "      <td>ST</td>\n",
              "      <td>True</td>\n",
              "      <td>True</td>\n",
              "      <td>False</td>\n",
              "      <td>2</td>\n",
              "      <td>0.192564</td>\n",
              "    </tr>\n",
              "    <tr>\n",
              "      <th>8</th>\n",
              "      <td>SRCV_QTY</td>\n",
              "      <td>True</td>\n",
              "      <td>False</td>\n",
              "      <td>True</td>\n",
              "      <td>2</td>\n",
              "      <td>0.157506</td>\n",
              "    </tr>\n",
              "    <tr>\n",
              "      <th>9</th>\n",
              "      <td>PROD_FMLY_CD</td>\n",
              "      <td>True</td>\n",
              "      <td>False</td>\n",
              "      <td>False</td>\n",
              "      <td>1</td>\n",
              "      <td>0.148884</td>\n",
              "    </tr>\n",
              "    <tr>\n",
              "      <th>10</th>\n",
              "      <td>PRMRY_IND</td>\n",
              "      <td>False</td>\n",
              "      <td>False</td>\n",
              "      <td>True</td>\n",
              "      <td>1</td>\n",
              "      <td>0.073808</td>\n",
              "    </tr>\n",
              "    <tr>\n",
              "      <th>11</th>\n",
              "      <td>PLACE_OF_SRVC_NM</td>\n",
              "      <td>True</td>\n",
              "      <td>False</td>\n",
              "      <td>False</td>\n",
              "      <td>1</td>\n",
              "      <td>0.212230</td>\n",
              "    </tr>\n",
              "    <tr>\n",
              "      <th>12</th>\n",
              "      <td>MBR_LOB_NM</td>\n",
              "      <td>False</td>\n",
              "      <td>False</td>\n",
              "      <td>True</td>\n",
              "      <td>1</td>\n",
              "      <td>0.219733</td>\n",
              "    </tr>\n",
              "    <tr>\n",
              "      <th>13</th>\n",
              "      <td>GNDR</td>\n",
              "      <td>False</td>\n",
              "      <td>False</td>\n",
              "      <td>True</td>\n",
              "      <td>1</td>\n",
              "      <td>0.012954</td>\n",
              "    </tr>\n",
              "    <tr>\n",
              "      <th>14</th>\n",
              "      <td>RVW_TYPE_TXT</td>\n",
              "      <td>False</td>\n",
              "      <td>False</td>\n",
              "      <td>False</td>\n",
              "      <td>0</td>\n",
              "      <td>0.175615</td>\n",
              "    </tr>\n",
              "    <tr>\n",
              "      <th>15</th>\n",
              "      <td>PREAUTH_RQST_TYPE_CD</td>\n",
              "      <td>False</td>\n",
              "      <td>False</td>\n",
              "      <td>False</td>\n",
              "      <td>0</td>\n",
              "      <td>0.067160</td>\n",
              "    </tr>\n",
              "    <tr>\n",
              "      <th>16</th>\n",
              "      <td>LVL_OF_SRVC_NM</td>\n",
              "      <td>False</td>\n",
              "      <td>False</td>\n",
              "      <td>False</td>\n",
              "      <td>0</td>\n",
              "      <td>0.001840</td>\n",
              "    </tr>\n",
              "    <tr>\n",
              "      <th>17</th>\n",
              "      <td>FUNDG_TYPE_CD</td>\n",
              "      <td>False</td>\n",
              "      <td>False</td>\n",
              "      <td>False</td>\n",
              "      <td>0</td>\n",
              "      <td>0.155953</td>\n",
              "    </tr>\n",
              "    <tr>\n",
              "      <th>18</th>\n",
              "      <td>CASE_TYPE_CD</td>\n",
              "      <td>False</td>\n",
              "      <td>False</td>\n",
              "      <td>False</td>\n",
              "      <td>0</td>\n",
              "      <td>0.042562</td>\n",
              "    </tr>\n",
              "  </tbody>\n",
              "</table>\n",
              "</div>"
            ],
            "text/plain": [
              "                 Feature    RFE    SFM   Chi2  Total        IV\n",
              "1            patient_age   True   True   True      3  0.175299\n",
              "2          RCPT_MTHD_TXT   True   True   True      3  0.937041\n",
              "3                PROC_CD   True   True   True      3  0.654629\n",
              "4          MBR_PLN_ST_CD   True   True   True      3  0.135474\n",
              "5                DIAG_CD   True   True   True      3  0.684631\n",
              "6                 TOS_NM   True  False   True      2  0.385589\n",
              "7                     ST   True   True  False      2  0.192564\n",
              "8               SRCV_QTY   True  False   True      2  0.157506\n",
              "9           PROD_FMLY_CD   True  False  False      1  0.148884\n",
              "10             PRMRY_IND  False  False   True      1  0.073808\n",
              "11      PLACE_OF_SRVC_NM   True  False  False      1  0.212230\n",
              "12            MBR_LOB_NM  False  False   True      1  0.219733\n",
              "13                  GNDR  False  False   True      1  0.012954\n",
              "14          RVW_TYPE_TXT  False  False  False      0  0.175615\n",
              "15  PREAUTH_RQST_TYPE_CD  False  False  False      0  0.067160\n",
              "16        LVL_OF_SRVC_NM  False  False  False      0  0.001840\n",
              "17         FUNDG_TYPE_CD  False  False  False      0  0.155953\n",
              "18          CASE_TYPE_CD  False  False  False      0  0.042562"
            ]
          },
          "metadata": {
            "tags": []
          },
          "execution_count": 71
        }
      ]
    },
    {
      "cell_type": "markdown",
      "metadata": {
        "id": "lGHr_ltORB6-",
        "colab_type": "text"
      },
      "source": [
        "## Classifier Model's Comparison"
      ]
    },
    {
      "cell_type": "code",
      "metadata": {
        "id": "IJWZ9B2ERB6-",
        "colab_type": "code",
        "outputId": "6b04c013-1809-4769-f513-b69733c32547",
        "colab": {}
      },
      "source": [
        "%%time\n",
        "random_state = 2\n",
        "kfold = StratifiedKFold(n_splits=10)\n",
        "njobs = 2\n",
        "\n",
        "classifiers = []\n",
        "\n",
        "#Ensemble Methods\n",
        "classifiers.append(AdaBoostClassifier(DecisionTreeClassifier(random_state=random_state),random_state=random_state,learning_rate=0.1))\n",
        "classifiers.append(RandomForestClassifier(random_state=random_state))\n",
        "classifiers.append(ExtraTreesClassifier(random_state=random_state))\n",
        "classifiers.append(GradientBoostingClassifier(random_state=random_state))\n",
        "classifiers.append(BaggingClassifier(random_state=random_state))\n",
        "classifiers.append(XGBClassifier(random_state=random_state))\n",
        "classifiers.append(LGBMClassifier(random_state=random_state))\n",
        "   \n",
        "#Trees    \n",
        "classifiers.append(DecisionTreeClassifier())\n",
        "classifiers.append(ExtraTreeClassifier())\n",
        "    \n",
        "#Gaussian Processes\n",
        "classifiers.append(GaussianProcessClassifier())\n",
        "    \n",
        "#GLM\n",
        "classifiers.append(LogisticRegressionCV())\n",
        "classifiers.append(PassiveAggressiveClassifier())\n",
        "classifiers.append(RidgeClassifierCV())\n",
        "classifiers.append(SGDClassifier())\n",
        "classifiers.append(Perceptron())\n",
        "    \n",
        "#Navies Bayes\n",
        "classifiers.append(BernoulliNB())\n",
        "classifiers.append(GaussianNB())\n",
        "    \n",
        "#Nearest Neighbor\n",
        "classifiers.append(KNeighborsClassifier())\n",
        "    \n",
        "#SVM\n",
        "classifiers.append(SVC())\n",
        "classifiers.append(LinearSVC())\n",
        "    \n",
        "#Discriminant Analysis\n",
        "classifiers.append(LinearDiscriminantAnalysis())\n",
        "classifiers.append(QuadraticDiscriminantAnalysis())\n",
        "\n",
        "#MLP\n",
        "classifiers.append(MLPClassifier())\n",
        "\n",
        "cv_results = []\n",
        "for classifier in classifiers :\n",
        "    cv_results.append(cross_val_score(classifier, x_train, y_train, scoring = \"accuracy\", cv = kfold, n_jobs = njobs))\n",
        "\n",
        "cv_means = []\n",
        "cv_std = []\n",
        "for cv_result in cv_results:\n",
        "    cv_means.append(cv_result.mean())\n",
        "    cv_std.append(cv_result.std())\n",
        "    \n",
        "\n",
        "cv_res = pd.DataFrame({\"CrossValMeans\":cv_means,\"CrossValerrors\": cv_std,\"Algorithm\":['AdaBoostClassifier',\n",
        "                                                                                    'RandomForestClassifier',\n",
        "                                                                                    'ExtraTreesClassifier',\n",
        "                                                                                    'GradientBoostingClassifier',\n",
        "                                                                                    'BaggingClassifier',\n",
        "                                                                                    'XGBClassifier',\n",
        "                                                                                    'LGBMClassifier',\n",
        "                                                                                    'DecisionTreeClassifier',\n",
        "                                                                                    'ExtraTreeClassifier',\n",
        "                                                                                    'GaussianProcessClassifier',\n",
        "                                                                                    'LogisticRegressionCV',\n",
        "                                                                                    'PassiveAggressiveClassifier',\n",
        "                                                                                    'RidgeClassifierCV',\n",
        "                                                                                    'SGDClassifier',\n",
        "                                                                                    'Perceptron',\n",
        "                                                                                    'BernoulliNB',\n",
        "                                                                                    'GaussianNB',\n",
        "                                                                                    'KNeighborsClassifier',\n",
        "                                                                                    'SVC',\n",
        "                                                                                    'LinearSVC',\n",
        "                                                                                    'LinearDiscriminantAnalysis',\n",
        "                                                                                    'QuadraticDiscriminantAnalysis',\n",
        "                                                                                    'MLPClassifier']})\n",
        "\n",
        "plt.figure(figsize=(8,8))\n",
        "g = sns.barplot(\"CrossValMeans\",\"Algorithm\",data = cv_res, palette=\"Set3\",orient = \"h\",**{'xerr':cv_std})\n",
        "g.set_xlabel(\"Mean Accuracy\")\n",
        "g = g.set_title(\"Cross validation scores\")"
      ],
      "execution_count": 0,
      "outputs": [
        {
          "output_type": "stream",
          "text": [
            "Wall time: 20.3 s\n"
          ],
          "name": "stdout"
        },
        {
          "output_type": "display_data",
          "data": {
            "image/png": "[encoded data removed]",
            "text/plain": [
              "<Figure size 432x288 with 1 Axes>"
            ]
          },
          "metadata": {
            "tags": [],
            "needs_background": "light"
          }
        }
      ]
    },
    {
      "cell_type": "code",
      "metadata": {
        "id": "GPC2uPGERB7C",
        "colab_type": "code",
        "colab": {}
      },
      "source": [
        "#compare algorithm predictions with each other, where 1 = exactly similar and 0 = exactly opposite\n",
        "#there are some 1's, but enough blues and light reds to create a \"super algorithm\" by combining them\n",
        "correlation_heatmap(cv_results)"
      ],
      "execution_count": 0,
      "outputs": []
    },
    {
      "cell_type": "markdown",
      "metadata": {
        "id": "6o0Th781RB7F",
        "colab_type": "text"
      },
      "source": [
        "## Hyperparameter Optimization and Voting Ensembling\n",
        "* **max_features**: This is the random subset of features to be considered for splitting operation, the lower the better to reduce variance. For Classification model, ideal max_features = sqr(n_var).\n",
        "* **max_depth**: Maximum depth of the tree. Alternate method of control model depth is max_leaf_nodes, which limits the number of terminal nodes, effectively limiting the depth of the tree.\n",
        "* **n_estimators**: Number of trees built before average prediction is made.\n",
        "* **min_samples_split**: Minimum number of samples required for a node to be split. Small minimum would potentially lead to a “Bushy Tree”, prone to overfitting. According to Analytic Vidhya, should be around 0.5~1% of the datasize.\n",
        "* **min_samples_leaf**: Minimum number of samples required at the Terminal Node of the tree. In Sklearn, an alternative min_weight_fraction_leaf is available to use fraction of the data instead of a fixed integer.\n",
        "* **random_state**: Ensuring consistent random generation, like seed(). Important to consider for comparing models of the same type to ensure a fair comparison. May cause overfitting if random generation is not representative."
      ]
    },
    {
      "cell_type": "code",
      "metadata": {
        "id": "-wzOXIx2RB7F",
        "colab_type": "code",
        "outputId": "5947481e-ab9a-44d8-9bbd-c994077f8590",
        "colab": {}
      },
      "source": [
        "%%time\n",
        "RFC = RandomForestClassifier()\n",
        "kfold = StratifiedKFold(n_splits=10)\n",
        "\n",
        "rf_param_grid = {\"max_depth\": [None, 3, 5, 10],\n",
        "              \"max_features\": [1, 3, 5, 10],\n",
        "              \"min_samples_split\": [2, 3, 10],\n",
        "              \"bootstrap\": [True, False],\n",
        "              \"n_estimators\" :[20, 50, 100, 300]}\n",
        "\n",
        "refit_score='accuracy_score'\n",
        "\n",
        "rsRFC = RandomizedSearchCV(RFC, rf_param_grid, cv=kfold, scoring=\"accuracy\", n_jobs= -1, verbose=3, n_iter=40)\n",
        "rsRFC.fit(x_train,y_train)"
      ],
      "execution_count": 0,
      "outputs": [
        {
          "output_type": "stream",
          "text": [
            "Fitting 10 folds for each of 40 candidates, totalling 400 fits\n"
          ],
          "name": "stdout"
        },
        {
          "output_type": "stream",
          "text": [
            "[Parallel(n_jobs=-1)]: Using backend LokyBackend with 2 concurrent workers.\n",
            "[Parallel(n_jobs=-1)]: Done 106 tasks      | elapsed:    7.8s\n"
          ],
          "name": "stderr"
        },
        {
          "output_type": "stream",
          "text": [
            "Wall time: 21.3 s\n"
          ],
          "name": "stdout"
        },
        {
          "output_type": "stream",
          "text": [
            "[Parallel(n_jobs=-1)]: Done 397 out of 400 | elapsed:   21.2s remaining:    0.1s\n",
            "[Parallel(n_jobs=-1)]: Done 400 out of 400 | elapsed:   21.2s finished\n",
            "C:\\Users\\AG17578\\AppData\\Local\\conda\\conda\\envs\\env1\\lib\\site-packages\\sklearn\\model_selection\\_search.py:841: DeprecationWarning: The default of the `iid` parameter will change from True to False in version 0.22 and will be removed in 0.24. This will change numeric results when test-set sizes are unequal.\n",
            "  DeprecationWarning)\n"
          ],
          "name": "stderr"
        }
      ]
    },
    {
      "cell_type": "code",
      "metadata": {
        "id": "QPlnFs2DRB7L",
        "colab_type": "code",
        "outputId": "cdaa2b4b-ed2b-4b02-c311-e42bd5405676",
        "colab": {}
      },
      "source": [
        "print ('Best Accuracy score on Training data:', rsRFC.best_score_)\n",
        "print ('Best Accuracy score on Test data:', rsRFC.best_estimator_.score(x_test,y_test))"
      ],
      "execution_count": 0,
      "outputs": [
        {
          "output_type": "stream",
          "text": [
            "Best Accuracy score on Training data: 0.9015748031496063\n",
            "Best Accuracy score on Test data: 0.890625\n"
          ],
          "name": "stdout"
        }
      ]
    },
    {
      "cell_type": "code",
      "metadata": {
        "id": "lKJnL5AeRB7N",
        "colab_type": "code",
        "outputId": "59877093-c1d8-45dd-e704-a603a3bd176f",
        "colab": {}
      },
      "source": [
        "plot_learning_curve(rsRFC.best_estimator_,\"Random forest learning curves\",x_train,y_train,cv=kfold)"
      ],
      "execution_count": 0,
      "outputs": [
        {
          "output_type": "display_data",
          "data": {
            "image/png": "[encoded data removed]",
            "text/plain": [
              "<Figure size 432x288 with 1 Axes>"
            ]
          },
          "metadata": {
            "tags": []
          }
        }
      ]
    },
    {
      "cell_type": "code",
      "metadata": {
        "id": "moVBxu8kRB7R",
        "colab_type": "code",
        "outputId": "ad39b1a6-9a13-428d-b157-847d87e96972",
        "colab": {}
      },
      "source": [
        "%%time\n",
        "LGBM = LGBMClassifier()\n",
        "kfold = StratifiedKFold(n_splits=10)\n",
        "\n",
        "lgbm_params = {'num_leaves': [27, 31, 61, 81, 127, 197, 231, 275, 302],\n",
        "              'bagging_fraction': [0.5, 0.7, 0.8, 0.9],\n",
        "              'learning_rate': [0.001, 0.005, 0.01, 0.05, 0.1, 0.3, 0.5],\n",
        "              #'min_data': [300, 400, 450, 500, 550, 650],\n",
        "              'is_unbalance': [True, False],\n",
        "              'max_bin': [3, 5, 10, 12, 18, 20, 22],\n",
        "              'boosting_type' : ['gbdt', 'dart'],\n",
        "              'bagging_freq': [3, 9, 11, 15, 17, 23, 31],\n",
        "              'max_depth': [3, 4, 5, 6, 7, 9, 11],       \n",
        "              'feature_fraction': [0.5, 0.7, 0.8, 0.9],\n",
        "              'lambda_l1': [0, 10, 20, 30, 40],\n",
        "              #'objective': 'binary', \n",
        "              'metric': 'auc'}\n",
        "            \n",
        "rsLGBM = RandomizedSearchCV(LGBM, lgbm_params, cv=kfold, scoring=\"accuracy\", n_jobs= -1, verbose=1, n_iter=40)\n",
        "\n",
        "rsLGBM.fit(x_train,y_train)"
      ],
      "execution_count": 0,
      "outputs": [
        {
          "output_type": "stream",
          "text": [
            "[Parallel(n_jobs=-1)]: Using backend LokyBackend with 2 concurrent workers.\n"
          ],
          "name": "stderr"
        },
        {
          "output_type": "stream",
          "text": [
            "Fitting 10 folds for each of 40 candidates, totalling 400 fits\n"
          ],
          "name": "stdout"
        },
        {
          "output_type": "stream",
          "text": [
            "[Parallel(n_jobs=-1)]: Done 172 tasks      | elapsed:    5.1s\n"
          ],
          "name": "stderr"
        },
        {
          "output_type": "stream",
          "text": [
            "Wall time: 12.5 s\n"
          ],
          "name": "stdout"
        },
        {
          "output_type": "stream",
          "text": [
            "[Parallel(n_jobs=-1)]: Done 400 out of 400 | elapsed:   12.3s finished\n",
            "C:\\Users\\AG17578\\AppData\\Local\\conda\\conda\\envs\\env1\\lib\\site-packages\\sklearn\\model_selection\\_search.py:841: DeprecationWarning: The default of the `iid` parameter will change from True to False in version 0.22 and will be removed in 0.24. This will change numeric results when test-set sizes are unequal.\n",
            "  DeprecationWarning)\n"
          ],
          "name": "stderr"
        }
      ]
    },
    {
      "cell_type": "code",
      "metadata": {
        "id": "DuGRWcTGRB7U",
        "colab_type": "code",
        "outputId": "87e0f369-41b2-4935-96f7-9113c2253731",
        "colab": {}
      },
      "source": [
        "%%time\n",
        "ABclf = AdaBoostClassifier()\n",
        "kfold = StratifiedKFold(n_splits=5)\n",
        "\n",
        "ab_params = {'learning_rate':[0.25,0.5,0.75,1.],\n",
        "               'n_estimators':[100,250,500,650]\n",
        "            }\n",
        "            \n",
        "rsADABoost = RandomizedSearchCV(ABclf, ab_params, cv=kfold, scoring=\"accuracy\", n_jobs= -1, verbose=1, n_iter=40)\n",
        "\n",
        "rsADABoost.fit(x_train,y_train)"
      ],
      "execution_count": 0,
      "outputs": [
        {
          "output_type": "stream",
          "text": [
            "[Parallel(n_jobs=-1)]: Using backend LokyBackend with 2 concurrent workers.\n"
          ],
          "name": "stderr"
        },
        {
          "output_type": "stream",
          "text": [
            "Fitting 5 folds for each of 16 candidates, totalling 80 fits\n"
          ],
          "name": "stdout"
        },
        {
          "output_type": "stream",
          "text": [
            "[Parallel(n_jobs=-1)]: Done  60 tasks      | elapsed:   15.6s\n",
            "[Parallel(n_jobs=-1)]: Done  80 out of  80 | elapsed:   21.1s finished\n",
            "C:\\Users\\AG17578\\AppData\\Local\\conda\\conda\\envs\\env1\\lib\\site-packages\\sklearn\\model_selection\\_search.py:841: DeprecationWarning: The default of the `iid` parameter will change from True to False in version 0.22 and will be removed in 0.24. This will change numeric results when test-set sizes are unequal.\n",
            "  DeprecationWarning)\n"
          ],
          "name": "stderr"
        },
        {
          "output_type": "stream",
          "text": [
            "Wall time: 21.7 s\n"
          ],
          "name": "stdout"
        }
      ]
    },
    {
      "cell_type": "code",
      "metadata": {
        "id": "ojS_YVsERB7W",
        "colab_type": "code",
        "outputId": "8bb13c37-4da6-4cfe-fc61-452c9342e099",
        "colab": {}
      },
      "source": [
        "print_scores(rsRFC, x_test, y_test)\n",
        "print('-'*10)\n",
        "print_scores(rsLGBM, x_test, y_test)\n",
        "print('-'*10)\n",
        "print_scores(rsADABoost, x_test, y_test)\n",
        "print('-'*10)"
      ],
      "execution_count": 0,
      "outputs": [
        {
          "output_type": "stream",
          "text": [
            "Accuracy: 0.890625\n",
            "Precision: 0.9\n",
            "Recall: 0.9818181818181818\n",
            "F1-score: 0.9391304347826087\n",
            "----------\n",
            "Accuracy: 0.8125\n",
            "Precision: 0.8909090909090909\n",
            "Recall: 0.8909090909090909\n",
            "F1-score: 0.8909090909090909\n",
            "----------\n",
            "Accuracy: 0.875\n",
            "Precision: 0.8983050847457628\n",
            "Recall: 0.9636363636363636\n",
            "F1-score: 0.9298245614035089\n",
            "----------\n"
          ],
          "name": "stdout"
        }
      ]
    },
    {
      "cell_type": "markdown",
      "metadata": {
        "id": "QxLZyvI1RB7a",
        "colab_type": "text"
      },
      "source": [
        "#### Check the similarity in prediction of these classifiers"
      ]
    },
    {
      "cell_type": "code",
      "metadata": {
        "id": "GHM1JWFzRB7a",
        "colab_type": "code",
        "colab": {}
      },
      "source": [
        "prediction_AdaBoosting = pd.Series(gsadaDTC.best_estimator_.predict(x_test), name=\"AdaBoosting\")\n",
        "prediction_ExtraTrees = pd.Series(gsExtC.best_estimator_.predict(x_test), name=\"ExtraTrees\")\n",
        "prediction_RandomForest = pd.Series(gsRFC.best_estimator_.predict(x_test), name=\"RandomForest\")\n",
        "prediction_GradientBoosting = pd.Series(gsGBC.best_estimator_.predict(x_test), name=\"GradientBoosting\")\n",
        "prediction_Logistic_Regression = pd.Series(gsLogReg.best_estimator_.predict(x_test), name=\"Logistic Regression\")\n",
        "prediction_LDA = pd.Series(gsLDAC.best_estimator_.predict(x_test), name=\"LDA\")\n",
        "\n",
        "# Concatenate all classifier results\n",
        "ensemble_results = pd.concat([prediction_AdaBoosting, prediction_ExtraTrees, prediction_RandomForest,\n",
        "                              prediction_GradientBoosting, prediction_Logistic_Regression, prediction_LDA],axis=1)\n",
        "\n",
        "g= sns.heatmap(ensemble_results.corr(),annot=True)"
      ],
      "execution_count": 0,
      "outputs": []
    },
    {
      "cell_type": "code",
      "metadata": {
        "id": "PTryaZiyRB7d",
        "colab_type": "code",
        "outputId": "e1627480-72a5-489e-f230-d0a0cb244322",
        "colab": {}
      },
      "source": [
        "#why choose one model, when you can pick them all with voting classifier\n",
        "#http://scikit-learn.org/stable/modules/generated/sklearn.ensemble.VotingClassifier.html\n",
        "#removed models w/o attribute 'predict_proba' required for vote classifier and models with a 1.0 correlation to another model\n",
        "kfold = StratifiedKFold(n_splits=2)\n",
        "vote_est = [\n",
        "    ('rf', rsRFC),\n",
        "    ('lgb',rsLGBM),\n",
        "    ('ada',rsADABoost)\n",
        "]\n",
        "\n",
        "#Hard Vote or majority rules w/Tuned Hyperparameters\n",
        "vote_hard = VotingClassifier(estimators = vote_est , voting = 'hard')\n",
        "vote_hard_cv = cross_validate(vote_hard, x_train, y_train, cv=kfold)\n",
        "\n",
        "print(\"Hard Voting Training w/bin score mean: {:.2f}\". format(vote_hard_cv['train_score'].mean()*100)) \n",
        "print(\"Hard Voting Test w/bin score mean: {:.2f}\". format(vote_hard_cv['test_score'].mean()*100))\n",
        "print(\"Hard Voting Test w/bin score 3*std: +/- {:.2f}\". format(vote_hard_cv['test_score'].std()*100*3))\n",
        "print('-'*10)"
      ],
      "execution_count": 0,
      "outputs": [
        {
          "output_type": "stream",
          "text": [
            "Fitting 10 folds for each of 40 candidates, totalling 400 fits\n"
          ],
          "name": "stdout"
        },
        {
          "output_type": "stream",
          "text": [
            "[Parallel(n_jobs=-1)]: Using backend LokyBackend with 2 concurrent workers.\n",
            "[Parallel(n_jobs=-1)]: Done  28 tasks      | elapsed:   34.2s\n",
            "[Parallel(n_jobs=-1)]: Done 374 tasks      | elapsed:   55.2s\n",
            "[Parallel(n_jobs=-1)]: Done 400 out of 400 | elapsed:   56.1s finished\n",
            "C:\\Users\\AG17578\\AppData\\Local\\conda\\conda\\envs\\env1\\lib\\site-packages\\sklearn\\model_selection\\_search.py:841: DeprecationWarning: The default of the `iid` parameter will change from True to False in version 0.22 and will be removed in 0.24. This will change numeric results when test-set sizes are unequal.\n",
            "  DeprecationWarning)\n",
            "[Parallel(n_jobs=-1)]: Using backend LokyBackend with 2 concurrent workers.\n"
          ],
          "name": "stderr"
        },
        {
          "output_type": "stream",
          "text": [
            "Fitting 10 folds for each of 40 candidates, totalling 400 fits\n"
          ],
          "name": "stdout"
        },
        {
          "output_type": "stream",
          "text": [
            "[Parallel(n_jobs=-1)]: Done 138 tasks      | elapsed:    3.3s\n",
            "[Parallel(n_jobs=-1)]: Done 400 out of 400 | elapsed:    9.1s finished\n",
            "C:\\Users\\AG17578\\AppData\\Local\\conda\\conda\\envs\\env1\\lib\\site-packages\\sklearn\\model_selection\\_search.py:841: DeprecationWarning: The default of the `iid` parameter will change from True to False in version 0.22 and will be removed in 0.24. This will change numeric results when test-set sizes are unequal.\n",
            "  DeprecationWarning)\n",
            "[Parallel(n_jobs=-1)]: Using backend LokyBackend with 2 concurrent workers.\n"
          ],
          "name": "stderr"
        },
        {
          "output_type": "stream",
          "text": [
            "Fitting 5 folds for each of 16 candidates, totalling 80 fits\n"
          ],
          "name": "stdout"
        },
        {
          "output_type": "stream",
          "text": [
            "[Parallel(n_jobs=-1)]: Done  66 tasks      | elapsed:   13.9s\n",
            "[Parallel(n_jobs=-1)]: Done  80 out of  80 | elapsed:   18.0s finished\n",
            "C:\\Users\\AG17578\\AppData\\Local\\conda\\conda\\envs\\env1\\lib\\site-packages\\sklearn\\model_selection\\_search.py:841: DeprecationWarning: The default of the `iid` parameter will change from True to False in version 0.22 and will be removed in 0.24. This will change numeric results when test-set sizes are unequal.\n",
            "  DeprecationWarning)\n"
          ],
          "name": "stderr"
        },
        {
          "output_type": "stream",
          "text": [
            "Fitting 10 folds for each of 40 candidates, totalling 400 fits\n"
          ],
          "name": "stdout"
        },
        {
          "output_type": "stream",
          "text": [
            "[Parallel(n_jobs=-1)]: Using backend LokyBackend with 2 concurrent workers.\n",
            "[Parallel(n_jobs=-1)]: Done 168 tasks      | elapsed:    9.1s\n",
            "[Parallel(n_jobs=-1)]: Done 400 out of 400 | elapsed:   22.6s finished\n",
            "C:\\Users\\AG17578\\AppData\\Local\\conda\\conda\\envs\\env1\\lib\\site-packages\\sklearn\\model_selection\\_search.py:841: DeprecationWarning: The default of the `iid` parameter will change from True to False in version 0.22 and will be removed in 0.24. This will change numeric results when test-set sizes are unequal.\n",
            "  DeprecationWarning)\n",
            "[Parallel(n_jobs=-1)]: Using backend LokyBackend with 2 concurrent workers.\n"
          ],
          "name": "stderr"
        },
        {
          "output_type": "stream",
          "text": [
            "Fitting 10 folds for each of 40 candidates, totalling 400 fits\n"
          ],
          "name": "stdout"
        },
        {
          "output_type": "stream",
          "text": [
            "[Parallel(n_jobs=-1)]: Done 340 tasks      | elapsed:    8.4s\n",
            "[Parallel(n_jobs=-1)]: Done 400 out of 400 | elapsed:    9.7s finished\n",
            "C:\\Users\\AG17578\\AppData\\Local\\conda\\conda\\envs\\env1\\lib\\site-packages\\sklearn\\model_selection\\_search.py:841: DeprecationWarning: The default of the `iid` parameter will change from True to False in version 0.22 and will be removed in 0.24. This will change numeric results when test-set sizes are unequal.\n",
            "  DeprecationWarning)\n",
            "[Parallel(n_jobs=-1)]: Using backend LokyBackend with 2 concurrent workers.\n"
          ],
          "name": "stderr"
        },
        {
          "output_type": "stream",
          "text": [
            "Fitting 5 folds for each of 16 candidates, totalling 80 fits\n"
          ],
          "name": "stdout"
        },
        {
          "output_type": "stream",
          "text": [
            "[Parallel(n_jobs=-1)]: Done  66 tasks      | elapsed:   14.6s\n",
            "[Parallel(n_jobs=-1)]: Done  80 out of  80 | elapsed:   18.8s finished\n",
            "C:\\Users\\AG17578\\AppData\\Local\\conda\\conda\\envs\\env1\\lib\\site-packages\\sklearn\\model_selection\\_search.py:841: DeprecationWarning: The default of the `iid` parameter will change from True to False in version 0.22 and will be removed in 0.24. This will change numeric results when test-set sizes are unequal.\n",
            "  DeprecationWarning)\n"
          ],
          "name": "stderr"
        },
        {
          "output_type": "stream",
          "text": [
            "Hard Voting Training w/bin score mean: 99.22\n",
            "Hard Voting Test w/bin score mean: 88.59\n",
            "Hard Voting Test w/bin score 3*std: +/- 0.91\n",
            "----------\n"
          ],
          "name": "stdout"
        }
      ]
    },
    {
      "cell_type": "code",
      "metadata": {
        "id": "kb85evzBRB7i",
        "colab_type": "code",
        "outputId": "2e5dc24c-40b4-4b9c-de91-96737c24b9f3",
        "colab": {}
      },
      "source": [
        "#Soft Vote or weighted probabilities\n",
        "#Hard Vote or majority rules w/Tuned Hyperparameters\n",
        "vote_soft = VotingClassifier(estimators = vote_est , voting = 'soft')\n",
        "vote_soft_cv = cross_validate(vote_soft, x_train, y_train, cv=kfold)\n",
        "\n",
        "print(\"Soft Voting Training w/bin score mean: {:.2f}\". format(vote_soft_cv['train_score'].mean()*100)) \n",
        "print(\"Soft Voting Test w/bin score mean: {:.2f}\". format(vote_soft_cv['test_score'].mean()*100))\n",
        "print(\"Soft Voting Test w/bin score 3*std: +/- {:.2f}\". format(vote_soft_cv['test_score'].std()*100*3))\n",
        "print('-'*10)"
      ],
      "execution_count": 0,
      "outputs": [
        {
          "output_type": "stream",
          "text": [
            "Fitting 10 folds for each of 40 candidates, totalling 400 fits\n"
          ],
          "name": "stdout"
        },
        {
          "output_type": "stream",
          "text": [
            "[Parallel(n_jobs=-1)]: Using backend LokyBackend with 2 concurrent workers.\n",
            "[Parallel(n_jobs=-1)]: Done  28 tasks      | elapsed:    2.9s\n",
            "[Parallel(n_jobs=-1)]: Done 281 tasks      | elapsed:   26.6s\n",
            "[Parallel(n_jobs=-1)]: Done 397 out of 400 | elapsed:   39.2s remaining:    0.2s\n",
            "[Parallel(n_jobs=-1)]: Done 400 out of 400 | elapsed:   39.4s finished\n",
            "C:\\Users\\AG17578\\AppData\\Local\\conda\\conda\\envs\\env1\\lib\\site-packages\\sklearn\\model_selection\\_search.py:841: DeprecationWarning: The default of the `iid` parameter will change from True to False in version 0.22 and will be removed in 0.24. This will change numeric results when test-set sizes are unequal.\n",
            "  DeprecationWarning)\n"
          ],
          "name": "stderr"
        },
        {
          "output_type": "stream",
          "text": [
            "Fitting 10 folds for each of 40 candidates, totalling 400 fits\n"
          ],
          "name": "stdout"
        },
        {
          "output_type": "stream",
          "text": [
            "[Parallel(n_jobs=-1)]: Using backend LokyBackend with 2 concurrent workers.\n",
            "[Parallel(n_jobs=-1)]: Done 172 tasks      | elapsed:    5.5s\n",
            "[Parallel(n_jobs=-1)]: Done 400 out of 400 | elapsed:   11.1s finished\n",
            "C:\\Users\\AG17578\\AppData\\Local\\conda\\conda\\envs\\env1\\lib\\site-packages\\sklearn\\model_selection\\_search.py:841: DeprecationWarning: The default of the `iid` parameter will change from True to False in version 0.22 and will be removed in 0.24. This will change numeric results when test-set sizes are unequal.\n",
            "  DeprecationWarning)\n",
            "[Parallel(n_jobs=-1)]: Using backend LokyBackend with 2 concurrent workers.\n"
          ],
          "name": "stderr"
        },
        {
          "output_type": "stream",
          "text": [
            "Fitting 5 folds for each of 16 candidates, totalling 80 fits\n"
          ],
          "name": "stdout"
        },
        {
          "output_type": "stream",
          "text": [
            "[Parallel(n_jobs=-1)]: Done  57 tasks      | elapsed:   13.7s\n",
            "[Parallel(n_jobs=-1)]: Done  80 out of  80 | elapsed:   19.1s finished\n",
            "C:\\Users\\AG17578\\AppData\\Local\\conda\\conda\\envs\\env1\\lib\\site-packages\\sklearn\\model_selection\\_search.py:841: DeprecationWarning: The default of the `iid` parameter will change from True to False in version 0.22 and will be removed in 0.24. This will change numeric results when test-set sizes are unequal.\n",
            "  DeprecationWarning)\n",
            "[Parallel(n_jobs=-1)]: Using backend LokyBackend with 2 concurrent workers.\n"
          ],
          "name": "stderr"
        },
        {
          "output_type": "stream",
          "text": [
            "Fitting 10 folds for each of 40 candidates, totalling 400 fits\n"
          ],
          "name": "stdout"
        },
        {
          "output_type": "stream",
          "text": [
            "[Parallel(n_jobs=-1)]: Done 172 tasks      | elapsed:   10.6s\n",
            "[Parallel(n_jobs=-1)]: Done 400 out of 400 | elapsed:   26.8s finished\n",
            "C:\\Users\\AG17578\\AppData\\Local\\conda\\conda\\envs\\env1\\lib\\site-packages\\sklearn\\model_selection\\_search.py:841: DeprecationWarning: The default of the `iid` parameter will change from True to False in version 0.22 and will be removed in 0.24. This will change numeric results when test-set sizes are unequal.\n",
            "  DeprecationWarning)\n",
            "[Parallel(n_jobs=-1)]: Using backend LokyBackend with 2 concurrent workers.\n"
          ],
          "name": "stderr"
        },
        {
          "output_type": "stream",
          "text": [
            "Fitting 10 folds for each of 40 candidates, totalling 400 fits\n"
          ],
          "name": "stdout"
        },
        {
          "output_type": "stream",
          "text": [
            "[Parallel(n_jobs=-1)]: Done 256 tasks      | elapsed:    5.6s\n",
            "[Parallel(n_jobs=-1)]: Done 400 out of 400 | elapsed:    8.8s finished\n",
            "C:\\Users\\AG17578\\AppData\\Local\\conda\\conda\\envs\\env1\\lib\\site-packages\\sklearn\\model_selection\\_search.py:841: DeprecationWarning: The default of the `iid` parameter will change from True to False in version 0.22 and will be removed in 0.24. This will change numeric results when test-set sizes are unequal.\n",
            "  DeprecationWarning)\n",
            "[Parallel(n_jobs=-1)]: Using backend LokyBackend with 2 concurrent workers.\n"
          ],
          "name": "stderr"
        },
        {
          "output_type": "stream",
          "text": [
            "Fitting 5 folds for each of 16 candidates, totalling 80 fits\n"
          ],
          "name": "stdout"
        },
        {
          "output_type": "stream",
          "text": [
            "[Parallel(n_jobs=-1)]: Done  46 tasks      | elapsed:   22.5s\n",
            "[Parallel(n_jobs=-1)]: Done  80 out of  80 | elapsed:   41.1s finished\n",
            "C:\\Users\\AG17578\\AppData\\Local\\conda\\conda\\envs\\env1\\lib\\site-packages\\sklearn\\model_selection\\_search.py:841: DeprecationWarning: The default of the `iid` parameter will change from True to False in version 0.22 and will be removed in 0.24. This will change numeric results when test-set sizes are unequal.\n",
            "  DeprecationWarning)\n"
          ],
          "name": "stderr"
        },
        {
          "output_type": "stream",
          "text": [
            "Soft Voting Training w/bin score mean: 90.95\n",
            "Soft Voting Test w/bin score mean: 88.19\n",
            "Soft Voting Test w/bin score 3*std: +/- 0.28\n",
            "----------\n"
          ],
          "name": "stdout"
        }
      ]
    },
    {
      "cell_type": "markdown",
      "metadata": {
        "id": "ivJkVey2RB7m",
        "colab_type": "text"
      },
      "source": [
        "### PyGAM Classifier\n",
        "#### Logistic Generalized Additive Model [GAM]\n",
        "* https://multithreaded.stitchfix.com/blog/2015/07/30/gam/\n",
        "* https://codeburst.io/pygam-getting-started-with-generalized-additive-models-in-python-457df5b4705f\n",
        "* https://github.com/dswah/pyGAM"
      ]
    },
    {
      "cell_type": "code",
      "metadata": {
        "id": "aekYJrZ5RB7m",
        "colab_type": "code",
        "colab": {}
      },
      "source": [
        "# %%time\n",
        "# GAMclf = LogisticGAM()\n",
        "# GAMclf.fit(x_train, y_train)\n",
        "# print_scores(GAMclf, x_test, y_test)"
      ],
      "execution_count": 0,
      "outputs": []
    },
    {
      "cell_type": "markdown",
      "metadata": {
        "id": "SK8l1zDcRB7o",
        "colab_type": "text"
      },
      "source": [
        "### Autosklearn - for unix only"
      ]
    },
    {
      "cell_type": "code",
      "metadata": {
        "id": "tmb4GpVARB7o",
        "colab_type": "code",
        "colab": {}
      },
      "source": [
        "# import autosklearn.classification\n",
        "# import sklearn.model_selection\n",
        "# import sklearn.datasets\n",
        "\n",
        "# automl = autosklearn.classification.AutoSklearnClassifier()\n",
        "# automl.fit(x_train, y_train)\n",
        "# print_scores(automl)"
      ],
      "execution_count": 0,
      "outputs": []
    },
    {
      "cell_type": "markdown",
      "metadata": {
        "id": "DOmDELLORB7q",
        "colab_type": "text"
      },
      "source": [
        "### CATBoost"
      ]
    },
    {
      "cell_type": "code",
      "metadata": {
        "id": "ODZQ7cMURB7r",
        "colab_type": "code",
        "colab": {}
      },
      "source": [
        "# data_cb = processed_data.copy()\n",
        "\n",
        "# data_cb['diagnosis_code'] = data_cb['diagnosis_code'].fillna('')\n",
        "# data_cb['procedure_code'] = data_cb['procedure_code'].fillna('')\n",
        "# data_cb['patientDemographics.groupId'] = data_cb['patientDemographics.groupId'].fillna('')\n",
        "# data_cb['placeOfService'] = data_cb['placeOfService'].fillna(0)\n",
        "\n",
        "# data_cb['caseIndicators.derivedOon'] = data_cb['caseIndicators.derivedOon'].astype(object)\n",
        "# data_cb['placeOfService'] = data_cb['placeOfService'].astype(object)\n",
        "\n",
        "# from sklearn import preprocessing\n",
        "# le = preprocessing.LabelEncoder()\n",
        "# data_cb = data_cb.apply(le.fit_transform)\n",
        "\n",
        "# cat_features = list(set(range(26))-set([18,25]))\n",
        "# x_train_cb, y_train_cb, x_test_cb, y_test_cb = split_me(data_cb, 'decision')\n",
        "# CBoostClf = catboost.CatBoostClassifier(eval_metric='Accuracy',use_best_model=True,random_seed=42)\n",
        "# CBoostClf.fit(x_train_cb,y_train_cb, cat_features=cat_features, eval_set=(x_test_cb,y_test_cb))\n",
        "\n",
        "# print('Test accuracy is :{:.6f}'.format(metrics.accuracy_score(y_test_cb, CBoostClf.predict(x_test_cb))))"
      ],
      "execution_count": 0,
      "outputs": []
    },
    {
      "cell_type": "markdown",
      "metadata": {
        "id": "btcC9x7dRB7s",
        "colab_type": "text"
      },
      "source": [
        "## Pipelines"
      ]
    },
    {
      "cell_type": "code",
      "metadata": {
        "id": "wXpnewbIRB7t",
        "colab_type": "code",
        "colab": {}
      },
      "source": [
        "train1 = train1.reset_index(drop=True)\n",
        "test1 = test1.reset_index(drop=True)"
      ],
      "execution_count": 0,
      "outputs": []
    },
    {
      "cell_type": "code",
      "metadata": {
        "id": "xaNwwTevRB7v",
        "colab_type": "code",
        "colab": {}
      },
      "source": [
        "obj_list = train1.select_dtypes('object').columns.tolist()\n",
        "enc_list = ['MBR_PLN_ST_CD', 'TOS_NM', 'DIAG_CD', 'ST', 'PROC_CD']\n",
        "le_list = [x for x in list(obj_list) if x not in enc_list]\n",
        "x_train, x_test, y_train, y_test = train_test_split_me(train1,test1)"
      ],
      "execution_count": 0,
      "outputs": []
    },
    {
      "cell_type": "markdown",
      "metadata": {
        "id": "Nh_FGSt0RB7x",
        "colab_type": "text"
      },
      "source": [
        "### single pipeline"
      ]
    },
    {
      "cell_type": "code",
      "metadata": {
        "id": "o-9XBQSbRB7x",
        "colab_type": "code",
        "outputId": "7be3bc1c-20c1-4903-a551-54645682ca31",
        "colab": {}
      },
      "source": [
        "from sklearn.pipeline import Pipeline\n",
        "pipeline = Pipeline([('te',ce.TargetEncoder(cols=obj_list)),('rf', RandomForestClassifier())])\n",
        "pipeline.fit(x_train, y_train)\n",
        "print_scores(pipeline, x_test, y_test)"
      ],
      "execution_count": 0,
      "outputs": [
        {
          "output_type": "stream",
          "text": [
            "Accuracy: 0.8571428571428571\n",
            "Precision: 0.8656716417910447\n",
            "Recall: 0.9830508474576272\n",
            "F1-score: 0.9206349206349207\n"
          ],
          "name": "stdout"
        }
      ]
    },
    {
      "cell_type": "markdown",
      "metadata": {
        "id": "18w7h9DiRB7z",
        "colab_type": "text"
      },
      "source": [
        "### multiple pipelines\n",
        "- encoding\n",
        "    - all target\n",
        "    - all hash\n",
        "    - all leaveoneout\n",
        "    - all label\n",
        "    - target + label\n",
        "- classifier\n",
        "    - logistic\n",
        "    - random forest\n",
        "    - xgboost\n",
        "    - svc"
      ]
    },
    {
      "cell_type": "code",
      "metadata": {
        "id": "3gDdybsdRB7z",
        "colab_type": "code",
        "outputId": "0452e618-8f67-4725-bf7f-9c3f4e8db55b",
        "colab": {}
      },
      "source": [
        "%%time\n",
        "\n",
        "pipe_te_lr = Pipeline([('te',ce.TargetEncoder(cols=obj_list)),('lr', LogisticRegression())])\n",
        "pipe_he_lr = Pipeline([('he',ce.HashingEncoder(cols=obj_list)),('lr', LogisticRegression())])\n",
        "pipe_loe_lr = Pipeline([('loe',ce.LeaveOneOutEncoder(cols=obj_list)),('lr', LogisticRegression())])\n",
        "\n",
        "pipe_te_rf = Pipeline([('te',ce.TargetEncoder(cols=obj_list)),('rf', RandomForestClassifier())])\n",
        "pipe_he_rf = Pipeline([('he',ce.HashingEncoder(cols=obj_list)),('rf', RandomForestClassifier())])\n",
        "pipe_loe_rf = Pipeline([('loe',ce.LeaveOneOutEncoder(cols=obj_list)),('rf', RandomForestClassifier())])\n",
        "#pipe_le_rf = Pipeline([('le',LabelEncoder(cols=obj_list)),('rf', RandomForestClassifier())])\n",
        "#pipe_tele_rf = Pipeline([('tele',ce.TargetEncoder(cols=enc_list)),('le',LabelEncoder(cols=le_list)),('rf', RandomForestClassifier())])\n",
        "\n",
        "pipe_te_xgb = Pipeline([('te',ce.TargetEncoder(cols=obj_list)),('xgb', XGBClassifier())])\n",
        "pipe_he_xgb = Pipeline([('he',ce.HashingEncoder(cols=obj_list)),('xgb', XGBClassifier())])\n",
        "pipe_loe_xgb = Pipeline([('loe',ce.LeaveOneOutEncoder(cols=obj_list)),('xgb', XGBClassifier())])\n",
        "#pipe_le_xgb = Pipeline([('le',LabelEncoder(cols=obj_list)),('xgb', XGBClassifier())])\n",
        "#pipe_tele_xgb = Pipeline([('tele',ce.TargetEncoder(cols=enc_list)),('le',LabelEncoder(cols=le_list)),('xgb', XGBClassifier())])\n",
        "\n",
        "pipe_te_lsvc = Pipeline([('te',ce.TargetEncoder(cols=obj_list)),('lsvc', LinearSVC())])\n",
        "pipe_he_lsvc = Pipeline([('he',ce.HashingEncoder(cols=obj_list)),('lsvc', LinearSVC())])\n",
        "pipe_loe_lsvc = Pipeline([('loe',ce.LeaveOneOutEncoder(cols=obj_list)),('lsvc', LinearSVC())])\n",
        "\n",
        "pipe_dic = {0: 'lr target', 1: 'lr hash', 2:'lr leaveoneout',\n",
        "            3: 'Rf target', 4: 'Rf hash', 5: 'Rf leaveoneout',\n",
        "            6: 'xgb target', 7: 'xgb hash', 8: 'xgb leaveoneout',\n",
        "            9: 'lsvc target',10: 'lsv hash', 11:'lsvc leaveoneout'}\n",
        "pipelines = [pipe_te_lr, pipe_he_lr, pipe_loe_lr, \n",
        "             pipe_te_rf, pipe_he_rf, pipe_loe_rf, \n",
        "             pipe_te_xgb, pipe_he_xgb, pipe_loe_xgb,\n",
        "             pipe_te_lsvc, pipe_he_lsvc, pipe_loe_lsvc]\n",
        "\n",
        "# Fit the pipelines\n",
        "for pipe in pipelines:\n",
        "    pipe.fit(x_train, y_train)\n",
        "# Compare accuracies\n",
        "for idx, val in enumerate(pipelines):\n",
        "    print('%s pipeline test accuracy: %.3f' % (pipe_dic[idx], val.score(x_test, y_test)))"
      ],
      "execution_count": 0,
      "outputs": [
        {
          "output_type": "stream",
          "text": [
            "lr target pipeline test accuracy: 0.843\n",
            "lr hash pipeline test accuracy: 0.843\n",
            "lr leaveoneout pipeline test accuracy: 0.843\n",
            "Rf target pipeline test accuracy: 0.871\n",
            "Rf hash pipeline test accuracy: 0.843\n",
            "Rf leaveoneout pipeline test accuracy: 0.871\n",
            "xgb target pipeline test accuracy: 0.857\n",
            "xgb hash pipeline test accuracy: 0.843\n",
            "xgb leaveoneout pipeline test accuracy: 0.843\n",
            "lsvc target pipeline test accuracy: 0.857\n",
            "lsv hash pipeline test accuracy: 0.271\n",
            "lsvc leaveoneout pipeline test accuracy: 0.871\n",
            "Wall time: 22.8 s\n"
          ],
          "name": "stdout"
        }
      ]
    },
    {
      "cell_type": "code",
      "metadata": {
        "id": "LVqfME1kRB73",
        "colab_type": "code",
        "colab": {}
      },
      "source": [
        "# #cross-validation on pipelines\n",
        "# pipeline.get_params().keys()\n",
        "# hyperparameters = { 'rf__max_depth': [50, 70],\n",
        "#                     'rf__min_samples_leaf': [1,2]}\n",
        "# clf = GridSearchCV(pipeline, hyperparameters, cv=5)\n",
        "# clf.fit(X_train, y_train)\n",
        "# # If you want to see which settings won, you can do so:\n",
        "# clf.best_params_\n",
        "# #refitting on entire training data using best settings\n",
        "# clf.refit\n",
        "# preds = clf.predict(X_test)\n",
        "# probs = clf.predict_proba(X_test)"
      ],
      "execution_count": 0,
      "outputs": []
    }
  ]
}